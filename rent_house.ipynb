{
  "nbformat": 4,
  "nbformat_minor": 0,
  "metadata": {
    "colab": {
      "provenance": []
    },
    "kernelspec": {
      "name": "python3",
      "display_name": "Python 3"
    },
    "language_info": {
      "name": "python"
    }
  },
  "cells": [
    {
      "cell_type": "code",
      "execution_count": null,
      "metadata": {
        "id": "-S4plIW14Hi1",
        "colab": {
          "base_uri": "https://localhost:8080/"
        },
        "outputId": "1f1a6bd2-7749-4ce7-ab5d-399d667cbcf8"
      },
      "outputs": [
        {
          "output_type": "stream",
          "name": "stdout",
          "text": [
            "Mounted at /content/gdrive\n"
          ]
        }
      ],
      "source": [
        "from google.colab import drive\n",
        "drive.mount('/content/gdrive',force_remount=True)"
      ]
    },
    {
      "cell_type": "code",
      "source": [
        "import pandas as pd\n",
        "df = pd.read_csv('/content/gdrive/MyDrive/研究所課程/統計分析程式/資料集/rent_house - rent_house.csv')"
      ],
      "metadata": {
        "id": "f4f9D_Bq4Np3"
      },
      "execution_count": null,
      "outputs": []
    },
    {
      "cell_type": "code",
      "source": [
        "df.columns"
      ],
      "metadata": {
        "colab": {
          "base_uri": "https://localhost:8080/"
        },
        "id": "PCxqXmtG5nk4",
        "outputId": "fa61d44e-aa0b-487b-ccd9-dc585c32a26c"
      },
      "execution_count": null,
      "outputs": [
        {
          "output_type": "execute_result",
          "data": {
            "text/plain": [
              "Index(['bedroom', 'bathrooms', 'area', 'furnishing', 'avalable_for', 'address',\n",
              "       'floor_number', 'facing', 'floor_type', 'gate_community', 'corner_pro',\n",
              "       'parking', 'wheelchairadption', 'petfacility', 'aggDur', 'noticeDur',\n",
              "       'lightbill', 'powerbackup', 'propertyage', 'no_room', 'pooja_room',\n",
              "       'study_room', 'others', 'servant_room', 'store_room', 'maintenance_amt',\n",
              "       'brok_amt', 'deposit_amt', 'mnt_amt', 'rent'],\n",
              "      dtype='object')"
            ]
          },
          "metadata": {},
          "execution_count": 204
        }
      ]
    },
    {
      "cell_type": "code",
      "source": [
        "df.isnull().sum()"
      ],
      "metadata": {
        "colab": {
          "base_uri": "https://localhost:8080/"
        },
        "id": "NAx4pjk3Xp_U",
        "outputId": "8fbeb031-3754-4216-94f0-e1bb7722822f"
      },
      "execution_count": null,
      "outputs": [
        {
          "output_type": "execute_result",
          "data": {
            "text/plain": [
              "bedroom              0\n",
              "bathrooms            0\n",
              "area                 0\n",
              "furnishing           0\n",
              "avalable_for         0\n",
              "address              0\n",
              "floor_number         0\n",
              "facing               0\n",
              "floor_type           0\n",
              "gate_community       0\n",
              "corner_pro           0\n",
              "parking              0\n",
              "wheelchairadption    0\n",
              "petfacility          0\n",
              "aggDur               0\n",
              "noticeDur            0\n",
              "lightbill            0\n",
              "powerbackup          0\n",
              "propertyage          0\n",
              "no_room              0\n",
              "pooja_room           0\n",
              "study_room           0\n",
              "others               0\n",
              "servant_room         0\n",
              "store_room           0\n",
              "maintenance_amt      0\n",
              "brok_amt             0\n",
              "deposit_amt          0\n",
              "mnt_amt              0\n",
              "rent                 0\n",
              "dtype: int64"
            ]
          },
          "metadata": {},
          "execution_count": 205
        }
      ]
    },
    {
      "cell_type": "code",
      "source": [
        "for i in range(len(df)):\n",
        "  if df['facing'][i]=='No Direction':\n",
        "    df=df.drop(index=[i])\n",
        "  elif df['facing'][i]=='South-West':\n",
        "    df=df.drop(index=[i])\n",
        "  elif df['facing'][i]=='South-East':\n",
        "    df=df.drop(index=[i])\n",
        "  elif df['avalable_for'][i]== 'Family , Bachelors (Men Only)':\n",
        "    df=df.drop(index=[i])\n",
        "  elif df['avalable_for'][i]== 'Family , Bachelors (Women Only)':\n",
        "    df=df.drop(index=[i])\n",
        "  elif df['avalable_for'][i]== 'Bachelors (Men Only)':\n",
        "    df=df.drop(index=[i])\n",
        "  elif df['avalable_for'][i]== 'Bachelors (Women Only)':\n",
        "    df=df.drop(index=[i])\n",
        "  elif df['avalable_for'][i]== 'Bachelors (Men/Women)':\n",
        "    df=df.drop(index=[i])\n",
        "  elif df['avalable_for'][i]== 'None':\n",
        "    df=df.drop(index=[i])\n",
        "  elif df['area'][i]== 0:\n",
        "    df=df.drop(index=[i])"
      ],
      "metadata": {
        "id": "_c3AQv_2Gqam"
      },
      "execution_count": null,
      "outputs": []
    },
    {
      "cell_type": "code",
      "source": [
        "import numpy as np\n",
        "print (\"Shape Of The Before Ouliers: \",df.shape)\n",
        "n=1.2\n",
        "#IQR = Q3-Q1\n",
        "IQR = np.percentile(df['rent'],75) - np.percentile(df['rent'],25)\n",
        "#outlier = Q3 + n*IQR\n",
        "df=df[df['rent'] < np.percentile(df['rent'],75)+n*IQR]\n",
        "#outlier = Q1 - n*IQR\n",
        "df=df[df['rent'] > np.percentile(df['rent'],25)-n*IQR]\n",
        "print (\"Shape Of The After Ouliers: \",df.shape)"
      ],
      "metadata": {
        "colab": {
          "base_uri": "https://localhost:8080/"
        },
        "id": "axXtZ6OwhabS",
        "outputId": "c6b29ee8-94bc-482a-df1d-0a9c7b771846"
      },
      "execution_count": null,
      "outputs": [
        {
          "output_type": "stream",
          "name": "stdout",
          "text": [
            "Shape Of The Before Ouliers:  (4583, 30)\n",
            "Shape Of The After Ouliers:  (4280, 30)\n"
          ]
        }
      ]
    },
    {
      "cell_type": "code",
      "source": [
        "import numpy as np\n",
        "print (\"Shape Of The Before Ouliers: \",df.shape)\n",
        "n=1.8\n",
        "#IQR = Q3-Q1\n",
        "IQR = np.percentile(df['area'],75) - np.percentile(df['area'],25)\n",
        "#outlier = Q3 + n*IQR\n",
        "df=df[df['area'] < np.percentile(df['area'],75)+n*IQR]\n",
        "#outlier = Q1 - n*IQR\n",
        "df=df[df['area'] > np.percentile(df['area'],25)-n*IQR]\n",
        "print (\"Shape Of The After Ouliers: \",df.shape)"
      ],
      "metadata": {
        "colab": {
          "base_uri": "https://localhost:8080/"
        },
        "id": "e1pHdKvJFtb8",
        "outputId": "d100883e-b7ec-44ce-a4bd-3280cc7e1591"
      },
      "execution_count": null,
      "outputs": [
        {
          "output_type": "stream",
          "name": "stdout",
          "text": [
            "Shape Of The Before Ouliers:  (4280, 30)\n",
            "Shape Of The After Ouliers:  (4210, 30)\n"
          ]
        }
      ]
    },
    {
      "cell_type": "code",
      "source": [
        "df = df.reset_index(drop=True)\n",
        "df"
      ],
      "metadata": {
        "colab": {
          "base_uri": "https://localhost:8080/",
          "height": 1000
        },
        "id": "VvPaPVOYGy0-",
        "outputId": "deec4bff-9c54-4c16-ab3f-87c8a78eb03e"
      },
      "execution_count": null,
      "outputs": [
        {
          "output_type": "execute_result",
          "data": {
            "text/plain": [
              "      bedroom  bathrooms    area     furnishing avalable_for  \\\n",
              "0           2          2  1050.0    Unfurnished          All   \n",
              "1           2          2   760.0    Unfurnished          All   \n",
              "2           1          1   628.0      Furnished  Family Only   \n",
              "3           3          3  1530.0  Semifurnished  Family Only   \n",
              "4           3          3  1400.0    Unfurnished          All   \n",
              "...       ...        ...     ...            ...          ...   \n",
              "4205        2          2   800.0    Unfurnished          All   \n",
              "4206        2          2   805.0  Semifurnished          All   \n",
              "4207        2          1   900.0    Unfurnished  Family Only   \n",
              "4208        2          1   750.0    Unfurnished  Family Only   \n",
              "4209        1          1   500.0      Furnished          All   \n",
              "\n",
              "                                                address  floor_number  \\\n",
              "0     Sadguru hights, Pingale Wasti, , Pune, Maharas...             5   \n",
              "1     Manav Silver Springs, Wagholi, , Pune, Maharas...             5   \n",
              "2         Dhan Residency, Wanowrie, , Pune, Maharashtra             3   \n",
              "3     Atul Westernhills, Baner-Sus, , Pune, Maharashtra             2   \n",
              "4     Magarpatta City Roystonea, Magarpatta, , Pune,...             2   \n",
              "...                                                 ...           ...   \n",
              "4205  Ravinanda Skylights, Wagholi, , Pune, Maharashtra             6   \n",
              "4206           on request, Kharadi, , Pune, Maharashtra             7   \n",
              "4207  Yashopuram Housing Society, Chinchwad, , Pune,...             0   \n",
              "4208  Narayan Niwas, B.T Kawade Road, , Pune, Mahara...             0   \n",
              "4209  Mantri Memories, Koregaon Park, , Pune, Mahara...             2   \n",
              "\n",
              "          facing floor_type gate_community  ... pooja_room  study_room others  \\\n",
              "0           West     Marble            Yes  ...          0           0      0   \n",
              "1           East  Vitrified            Yes  ...          0           0      0   \n",
              "2           East     Mosaic            Yes  ...          0           0      0   \n",
              "3           East  Vitrified            Yes  ...          1           0      0   \n",
              "4     North-West  Vitrified            Yes  ...          1           0      0   \n",
              "...          ...        ...            ...  ...        ...         ...    ...   \n",
              "4205        East  Vitrified            Yes  ...          0           0      1   \n",
              "4206       North     Marble            Yes  ...          0           0      0   \n",
              "4207       North      Stone            Yes  ...          0           0      0   \n",
              "4208       South  Vitrified            Yes  ...          0           0      1   \n",
              "4209        East  Vitrified            Yes  ...          0           0      0   \n",
              "\n",
              "     servant_room  store_room  maintenance_amt  brok_amt  deposit_amt mnt_amt  \\\n",
              "0               0           0                0         0            3     0.0   \n",
              "1               0           0                0         0        40000     0.0   \n",
              "2               0           0                0         0        40000     0.0   \n",
              "3               0           0                0     28000            3     0.0   \n",
              "4               0           0                0     25000        60000     0.0   \n",
              "...           ...         ...              ...       ...          ...     ...   \n",
              "4205            0           0                0     11000        25000     0.0   \n",
              "4206            0           1                0     20000            3     0.0   \n",
              "4207            0           0                0         0        45000     0.0   \n",
              "4208            0           0                0     15000        30000     0.0   \n",
              "4209            0           0                0         0            0     0.0   \n",
              "\n",
              "         rent  \n",
              "0     20000.0  \n",
              "1     14000.0  \n",
              "2     13000.0  \n",
              "3     28000.0  \n",
              "4     25999.0  \n",
              "...       ...  \n",
              "4205  11000.0  \n",
              "4206  20000.0  \n",
              "4207  15000.0  \n",
              "4208  15000.0  \n",
              "4209  23000.0  \n",
              "\n",
              "[4210 rows x 30 columns]"
            ],
            "text/html": [
              "\n",
              "  <div id=\"df-20549a71-cdd2-4fbc-92a3-d8020021b7f9\">\n",
              "    <div class=\"colab-df-container\">\n",
              "      <div>\n",
              "<style scoped>\n",
              "    .dataframe tbody tr th:only-of-type {\n",
              "        vertical-align: middle;\n",
              "    }\n",
              "\n",
              "    .dataframe tbody tr th {\n",
              "        vertical-align: top;\n",
              "    }\n",
              "\n",
              "    .dataframe thead th {\n",
              "        text-align: right;\n",
              "    }\n",
              "</style>\n",
              "<table border=\"1\" class=\"dataframe\">\n",
              "  <thead>\n",
              "    <tr style=\"text-align: right;\">\n",
              "      <th></th>\n",
              "      <th>bedroom</th>\n",
              "      <th>bathrooms</th>\n",
              "      <th>area</th>\n",
              "      <th>furnishing</th>\n",
              "      <th>avalable_for</th>\n",
              "      <th>address</th>\n",
              "      <th>floor_number</th>\n",
              "      <th>facing</th>\n",
              "      <th>floor_type</th>\n",
              "      <th>gate_community</th>\n",
              "      <th>...</th>\n",
              "      <th>pooja_room</th>\n",
              "      <th>study_room</th>\n",
              "      <th>others</th>\n",
              "      <th>servant_room</th>\n",
              "      <th>store_room</th>\n",
              "      <th>maintenance_amt</th>\n",
              "      <th>brok_amt</th>\n",
              "      <th>deposit_amt</th>\n",
              "      <th>mnt_amt</th>\n",
              "      <th>rent</th>\n",
              "    </tr>\n",
              "  </thead>\n",
              "  <tbody>\n",
              "    <tr>\n",
              "      <th>0</th>\n",
              "      <td>2</td>\n",
              "      <td>2</td>\n",
              "      <td>1050.0</td>\n",
              "      <td>Unfurnished</td>\n",
              "      <td>All</td>\n",
              "      <td>Sadguru hights, Pingale Wasti, , Pune, Maharas...</td>\n",
              "      <td>5</td>\n",
              "      <td>West</td>\n",
              "      <td>Marble</td>\n",
              "      <td>Yes</td>\n",
              "      <td>...</td>\n",
              "      <td>0</td>\n",
              "      <td>0</td>\n",
              "      <td>0</td>\n",
              "      <td>0</td>\n",
              "      <td>0</td>\n",
              "      <td>0</td>\n",
              "      <td>0</td>\n",
              "      <td>3</td>\n",
              "      <td>0.0</td>\n",
              "      <td>20000.0</td>\n",
              "    </tr>\n",
              "    <tr>\n",
              "      <th>1</th>\n",
              "      <td>2</td>\n",
              "      <td>2</td>\n",
              "      <td>760.0</td>\n",
              "      <td>Unfurnished</td>\n",
              "      <td>All</td>\n",
              "      <td>Manav Silver Springs, Wagholi, , Pune, Maharas...</td>\n",
              "      <td>5</td>\n",
              "      <td>East</td>\n",
              "      <td>Vitrified</td>\n",
              "      <td>Yes</td>\n",
              "      <td>...</td>\n",
              "      <td>0</td>\n",
              "      <td>0</td>\n",
              "      <td>0</td>\n",
              "      <td>0</td>\n",
              "      <td>0</td>\n",
              "      <td>0</td>\n",
              "      <td>0</td>\n",
              "      <td>40000</td>\n",
              "      <td>0.0</td>\n",
              "      <td>14000.0</td>\n",
              "    </tr>\n",
              "    <tr>\n",
              "      <th>2</th>\n",
              "      <td>1</td>\n",
              "      <td>1</td>\n",
              "      <td>628.0</td>\n",
              "      <td>Furnished</td>\n",
              "      <td>Family Only</td>\n",
              "      <td>Dhan Residency, Wanowrie, , Pune, Maharashtra</td>\n",
              "      <td>3</td>\n",
              "      <td>East</td>\n",
              "      <td>Mosaic</td>\n",
              "      <td>Yes</td>\n",
              "      <td>...</td>\n",
              "      <td>0</td>\n",
              "      <td>0</td>\n",
              "      <td>0</td>\n",
              "      <td>0</td>\n",
              "      <td>0</td>\n",
              "      <td>0</td>\n",
              "      <td>0</td>\n",
              "      <td>40000</td>\n",
              "      <td>0.0</td>\n",
              "      <td>13000.0</td>\n",
              "    </tr>\n",
              "    <tr>\n",
              "      <th>3</th>\n",
              "      <td>3</td>\n",
              "      <td>3</td>\n",
              "      <td>1530.0</td>\n",
              "      <td>Semifurnished</td>\n",
              "      <td>Family Only</td>\n",
              "      <td>Atul Westernhills, Baner-Sus, , Pune, Maharashtra</td>\n",
              "      <td>2</td>\n",
              "      <td>East</td>\n",
              "      <td>Vitrified</td>\n",
              "      <td>Yes</td>\n",
              "      <td>...</td>\n",
              "      <td>1</td>\n",
              "      <td>0</td>\n",
              "      <td>0</td>\n",
              "      <td>0</td>\n",
              "      <td>0</td>\n",
              "      <td>0</td>\n",
              "      <td>28000</td>\n",
              "      <td>3</td>\n",
              "      <td>0.0</td>\n",
              "      <td>28000.0</td>\n",
              "    </tr>\n",
              "    <tr>\n",
              "      <th>4</th>\n",
              "      <td>3</td>\n",
              "      <td>3</td>\n",
              "      <td>1400.0</td>\n",
              "      <td>Unfurnished</td>\n",
              "      <td>All</td>\n",
              "      <td>Magarpatta City Roystonea, Magarpatta, , Pune,...</td>\n",
              "      <td>2</td>\n",
              "      <td>North-West</td>\n",
              "      <td>Vitrified</td>\n",
              "      <td>Yes</td>\n",
              "      <td>...</td>\n",
              "      <td>1</td>\n",
              "      <td>0</td>\n",
              "      <td>0</td>\n",
              "      <td>0</td>\n",
              "      <td>0</td>\n",
              "      <td>0</td>\n",
              "      <td>25000</td>\n",
              "      <td>60000</td>\n",
              "      <td>0.0</td>\n",
              "      <td>25999.0</td>\n",
              "    </tr>\n",
              "    <tr>\n",
              "      <th>...</th>\n",
              "      <td>...</td>\n",
              "      <td>...</td>\n",
              "      <td>...</td>\n",
              "      <td>...</td>\n",
              "      <td>...</td>\n",
              "      <td>...</td>\n",
              "      <td>...</td>\n",
              "      <td>...</td>\n",
              "      <td>...</td>\n",
              "      <td>...</td>\n",
              "      <td>...</td>\n",
              "      <td>...</td>\n",
              "      <td>...</td>\n",
              "      <td>...</td>\n",
              "      <td>...</td>\n",
              "      <td>...</td>\n",
              "      <td>...</td>\n",
              "      <td>...</td>\n",
              "      <td>...</td>\n",
              "      <td>...</td>\n",
              "      <td>...</td>\n",
              "    </tr>\n",
              "    <tr>\n",
              "      <th>4205</th>\n",
              "      <td>2</td>\n",
              "      <td>2</td>\n",
              "      <td>800.0</td>\n",
              "      <td>Unfurnished</td>\n",
              "      <td>All</td>\n",
              "      <td>Ravinanda Skylights, Wagholi, , Pune, Maharashtra</td>\n",
              "      <td>6</td>\n",
              "      <td>East</td>\n",
              "      <td>Vitrified</td>\n",
              "      <td>Yes</td>\n",
              "      <td>...</td>\n",
              "      <td>0</td>\n",
              "      <td>0</td>\n",
              "      <td>1</td>\n",
              "      <td>0</td>\n",
              "      <td>0</td>\n",
              "      <td>0</td>\n",
              "      <td>11000</td>\n",
              "      <td>25000</td>\n",
              "      <td>0.0</td>\n",
              "      <td>11000.0</td>\n",
              "    </tr>\n",
              "    <tr>\n",
              "      <th>4206</th>\n",
              "      <td>2</td>\n",
              "      <td>2</td>\n",
              "      <td>805.0</td>\n",
              "      <td>Semifurnished</td>\n",
              "      <td>All</td>\n",
              "      <td>on request, Kharadi, , Pune, Maharashtra</td>\n",
              "      <td>7</td>\n",
              "      <td>North</td>\n",
              "      <td>Marble</td>\n",
              "      <td>Yes</td>\n",
              "      <td>...</td>\n",
              "      <td>0</td>\n",
              "      <td>0</td>\n",
              "      <td>0</td>\n",
              "      <td>0</td>\n",
              "      <td>1</td>\n",
              "      <td>0</td>\n",
              "      <td>20000</td>\n",
              "      <td>3</td>\n",
              "      <td>0.0</td>\n",
              "      <td>20000.0</td>\n",
              "    </tr>\n",
              "    <tr>\n",
              "      <th>4207</th>\n",
              "      <td>2</td>\n",
              "      <td>1</td>\n",
              "      <td>900.0</td>\n",
              "      <td>Unfurnished</td>\n",
              "      <td>Family Only</td>\n",
              "      <td>Yashopuram Housing Society, Chinchwad, , Pune,...</td>\n",
              "      <td>0</td>\n",
              "      <td>North</td>\n",
              "      <td>Stone</td>\n",
              "      <td>Yes</td>\n",
              "      <td>...</td>\n",
              "      <td>0</td>\n",
              "      <td>0</td>\n",
              "      <td>0</td>\n",
              "      <td>0</td>\n",
              "      <td>0</td>\n",
              "      <td>0</td>\n",
              "      <td>0</td>\n",
              "      <td>45000</td>\n",
              "      <td>0.0</td>\n",
              "      <td>15000.0</td>\n",
              "    </tr>\n",
              "    <tr>\n",
              "      <th>4208</th>\n",
              "      <td>2</td>\n",
              "      <td>1</td>\n",
              "      <td>750.0</td>\n",
              "      <td>Unfurnished</td>\n",
              "      <td>Family Only</td>\n",
              "      <td>Narayan Niwas, B.T Kawade Road, , Pune, Mahara...</td>\n",
              "      <td>0</td>\n",
              "      <td>South</td>\n",
              "      <td>Vitrified</td>\n",
              "      <td>Yes</td>\n",
              "      <td>...</td>\n",
              "      <td>0</td>\n",
              "      <td>0</td>\n",
              "      <td>1</td>\n",
              "      <td>0</td>\n",
              "      <td>0</td>\n",
              "      <td>0</td>\n",
              "      <td>15000</td>\n",
              "      <td>30000</td>\n",
              "      <td>0.0</td>\n",
              "      <td>15000.0</td>\n",
              "    </tr>\n",
              "    <tr>\n",
              "      <th>4209</th>\n",
              "      <td>1</td>\n",
              "      <td>1</td>\n",
              "      <td>500.0</td>\n",
              "      <td>Furnished</td>\n",
              "      <td>All</td>\n",
              "      <td>Mantri Memories, Koregaon Park, , Pune, Mahara...</td>\n",
              "      <td>2</td>\n",
              "      <td>East</td>\n",
              "      <td>Vitrified</td>\n",
              "      <td>Yes</td>\n",
              "      <td>...</td>\n",
              "      <td>0</td>\n",
              "      <td>0</td>\n",
              "      <td>0</td>\n",
              "      <td>0</td>\n",
              "      <td>0</td>\n",
              "      <td>0</td>\n",
              "      <td>0</td>\n",
              "      <td>0</td>\n",
              "      <td>0.0</td>\n",
              "      <td>23000.0</td>\n",
              "    </tr>\n",
              "  </tbody>\n",
              "</table>\n",
              "<p>4210 rows × 30 columns</p>\n",
              "</div>\n",
              "      <button class=\"colab-df-convert\" onclick=\"convertToInteractive('df-20549a71-cdd2-4fbc-92a3-d8020021b7f9')\"\n",
              "              title=\"Convert this dataframe to an interactive table.\"\n",
              "              style=\"display:none;\">\n",
              "        \n",
              "  <svg xmlns=\"http://www.w3.org/2000/svg\" height=\"24px\"viewBox=\"0 0 24 24\"\n",
              "       width=\"24px\">\n",
              "    <path d=\"M0 0h24v24H0V0z\" fill=\"none\"/>\n",
              "    <path d=\"M18.56 5.44l.94 2.06.94-2.06 2.06-.94-2.06-.94-.94-2.06-.94 2.06-2.06.94zm-11 1L8.5 8.5l.94-2.06 2.06-.94-2.06-.94L8.5 2.5l-.94 2.06-2.06.94zm10 10l.94 2.06.94-2.06 2.06-.94-2.06-.94-.94-2.06-.94 2.06-2.06.94z\"/><path d=\"M17.41 7.96l-1.37-1.37c-.4-.4-.92-.59-1.43-.59-.52 0-1.04.2-1.43.59L10.3 9.45l-7.72 7.72c-.78.78-.78 2.05 0 2.83L4 21.41c.39.39.9.59 1.41.59.51 0 1.02-.2 1.41-.59l7.78-7.78 2.81-2.81c.8-.78.8-2.07 0-2.86zM5.41 20L4 18.59l7.72-7.72 1.47 1.35L5.41 20z\"/>\n",
              "  </svg>\n",
              "      </button>\n",
              "      \n",
              "  <style>\n",
              "    .colab-df-container {\n",
              "      display:flex;\n",
              "      flex-wrap:wrap;\n",
              "      gap: 12px;\n",
              "    }\n",
              "\n",
              "    .colab-df-convert {\n",
              "      background-color: #E8F0FE;\n",
              "      border: none;\n",
              "      border-radius: 50%;\n",
              "      cursor: pointer;\n",
              "      display: none;\n",
              "      fill: #1967D2;\n",
              "      height: 32px;\n",
              "      padding: 0 0 0 0;\n",
              "      width: 32px;\n",
              "    }\n",
              "\n",
              "    .colab-df-convert:hover {\n",
              "      background-color: #E2EBFA;\n",
              "      box-shadow: 0px 1px 2px rgba(60, 64, 67, 0.3), 0px 1px 3px 1px rgba(60, 64, 67, 0.15);\n",
              "      fill: #174EA6;\n",
              "    }\n",
              "\n",
              "    [theme=dark] .colab-df-convert {\n",
              "      background-color: #3B4455;\n",
              "      fill: #D2E3FC;\n",
              "    }\n",
              "\n",
              "    [theme=dark] .colab-df-convert:hover {\n",
              "      background-color: #434B5C;\n",
              "      box-shadow: 0px 1px 3px 1px rgba(0, 0, 0, 0.15);\n",
              "      filter: drop-shadow(0px 1px 2px rgba(0, 0, 0, 0.3));\n",
              "      fill: #FFFFFF;\n",
              "    }\n",
              "  </style>\n",
              "\n",
              "      <script>\n",
              "        const buttonEl =\n",
              "          document.querySelector('#df-20549a71-cdd2-4fbc-92a3-d8020021b7f9 button.colab-df-convert');\n",
              "        buttonEl.style.display =\n",
              "          google.colab.kernel.accessAllowed ? 'block' : 'none';\n",
              "\n",
              "        async function convertToInteractive(key) {\n",
              "          const element = document.querySelector('#df-20549a71-cdd2-4fbc-92a3-d8020021b7f9');\n",
              "          const dataTable =\n",
              "            await google.colab.kernel.invokeFunction('convertToInteractive',\n",
              "                                                     [key], {});\n",
              "          if (!dataTable) return;\n",
              "\n",
              "          const docLinkHtml = 'Like what you see? Visit the ' +\n",
              "            '<a target=\"_blank\" href=https://colab.research.google.com/notebooks/data_table.ipynb>data table notebook</a>'\n",
              "            + ' to learn more about interactive tables.';\n",
              "          element.innerHTML = '';\n",
              "          dataTable['output_type'] = 'display_data';\n",
              "          await google.colab.output.renderOutput(dataTable, element);\n",
              "          const docLink = document.createElement('div');\n",
              "          docLink.innerHTML = docLinkHtml;\n",
              "          element.appendChild(docLink);\n",
              "        }\n",
              "      </script>\n",
              "    </div>\n",
              "  </div>\n",
              "  "
            ]
          },
          "metadata": {},
          "execution_count": 278
        }
      ]
    },
    {
      "cell_type": "code",
      "source": [
        "df_F = df['facing'].to_numpy()\n",
        "df_Y = df['avalable_for'].to_numpy()\n",
        "df_R = df['rent'].to_numpy()\n",
        "df_B = df['area'].to_numpy()"
      ],
      "metadata": {
        "id": "_Yjzscpy6o15"
      },
      "execution_count": null,
      "outputs": []
    },
    {
      "cell_type": "code",
      "source": [
        "df_R4 = pd.DataFrame({'facing':df_F,'avalable_for':df_Y,'rent':df_R,'area':df_B})"
      ],
      "metadata": {
        "id": "-a0C1YUipnX0"
      },
      "execution_count": null,
      "outputs": []
    },
    {
      "cell_type": "code",
      "source": [
        "df_R4"
      ],
      "metadata": {
        "colab": {
          "base_uri": "https://localhost:8080/",
          "height": 424
        },
        "id": "Mq3vh5zpsb7X",
        "outputId": "46ebdfce-4691-4b52-b365-d903d6815582"
      },
      "execution_count": null,
      "outputs": [
        {
          "output_type": "execute_result",
          "data": {
            "text/plain": [
              "          facing avalable_for     rent    area\n",
              "0           West          All  20000.0  1050.0\n",
              "1           East          All  14000.0   760.0\n",
              "2           East  Family Only  13000.0   628.0\n",
              "3           East  Family Only  28000.0  1530.0\n",
              "4     North-West          All  25999.0  1400.0\n",
              "...          ...          ...      ...     ...\n",
              "4205        East          All  11000.0   800.0\n",
              "4206       North          All  20000.0   805.0\n",
              "4207       North  Family Only  15000.0   900.0\n",
              "4208       South  Family Only  15000.0   750.0\n",
              "4209        East          All  23000.0   500.0\n",
              "\n",
              "[4210 rows x 4 columns]"
            ],
            "text/html": [
              "\n",
              "  <div id=\"df-94381955-83e2-406d-903d-6a9cc77c57c1\">\n",
              "    <div class=\"colab-df-container\">\n",
              "      <div>\n",
              "<style scoped>\n",
              "    .dataframe tbody tr th:only-of-type {\n",
              "        vertical-align: middle;\n",
              "    }\n",
              "\n",
              "    .dataframe tbody tr th {\n",
              "        vertical-align: top;\n",
              "    }\n",
              "\n",
              "    .dataframe thead th {\n",
              "        text-align: right;\n",
              "    }\n",
              "</style>\n",
              "<table border=\"1\" class=\"dataframe\">\n",
              "  <thead>\n",
              "    <tr style=\"text-align: right;\">\n",
              "      <th></th>\n",
              "      <th>facing</th>\n",
              "      <th>avalable_for</th>\n",
              "      <th>rent</th>\n",
              "      <th>area</th>\n",
              "    </tr>\n",
              "  </thead>\n",
              "  <tbody>\n",
              "    <tr>\n",
              "      <th>0</th>\n",
              "      <td>West</td>\n",
              "      <td>All</td>\n",
              "      <td>20000.0</td>\n",
              "      <td>1050.0</td>\n",
              "    </tr>\n",
              "    <tr>\n",
              "      <th>1</th>\n",
              "      <td>East</td>\n",
              "      <td>All</td>\n",
              "      <td>14000.0</td>\n",
              "      <td>760.0</td>\n",
              "    </tr>\n",
              "    <tr>\n",
              "      <th>2</th>\n",
              "      <td>East</td>\n",
              "      <td>Family Only</td>\n",
              "      <td>13000.0</td>\n",
              "      <td>628.0</td>\n",
              "    </tr>\n",
              "    <tr>\n",
              "      <th>3</th>\n",
              "      <td>East</td>\n",
              "      <td>Family Only</td>\n",
              "      <td>28000.0</td>\n",
              "      <td>1530.0</td>\n",
              "    </tr>\n",
              "    <tr>\n",
              "      <th>4</th>\n",
              "      <td>North-West</td>\n",
              "      <td>All</td>\n",
              "      <td>25999.0</td>\n",
              "      <td>1400.0</td>\n",
              "    </tr>\n",
              "    <tr>\n",
              "      <th>...</th>\n",
              "      <td>...</td>\n",
              "      <td>...</td>\n",
              "      <td>...</td>\n",
              "      <td>...</td>\n",
              "    </tr>\n",
              "    <tr>\n",
              "      <th>4205</th>\n",
              "      <td>East</td>\n",
              "      <td>All</td>\n",
              "      <td>11000.0</td>\n",
              "      <td>800.0</td>\n",
              "    </tr>\n",
              "    <tr>\n",
              "      <th>4206</th>\n",
              "      <td>North</td>\n",
              "      <td>All</td>\n",
              "      <td>20000.0</td>\n",
              "      <td>805.0</td>\n",
              "    </tr>\n",
              "    <tr>\n",
              "      <th>4207</th>\n",
              "      <td>North</td>\n",
              "      <td>Family Only</td>\n",
              "      <td>15000.0</td>\n",
              "      <td>900.0</td>\n",
              "    </tr>\n",
              "    <tr>\n",
              "      <th>4208</th>\n",
              "      <td>South</td>\n",
              "      <td>Family Only</td>\n",
              "      <td>15000.0</td>\n",
              "      <td>750.0</td>\n",
              "    </tr>\n",
              "    <tr>\n",
              "      <th>4209</th>\n",
              "      <td>East</td>\n",
              "      <td>All</td>\n",
              "      <td>23000.0</td>\n",
              "      <td>500.0</td>\n",
              "    </tr>\n",
              "  </tbody>\n",
              "</table>\n",
              "<p>4210 rows × 4 columns</p>\n",
              "</div>\n",
              "      <button class=\"colab-df-convert\" onclick=\"convertToInteractive('df-94381955-83e2-406d-903d-6a9cc77c57c1')\"\n",
              "              title=\"Convert this dataframe to an interactive table.\"\n",
              "              style=\"display:none;\">\n",
              "        \n",
              "  <svg xmlns=\"http://www.w3.org/2000/svg\" height=\"24px\"viewBox=\"0 0 24 24\"\n",
              "       width=\"24px\">\n",
              "    <path d=\"M0 0h24v24H0V0z\" fill=\"none\"/>\n",
              "    <path d=\"M18.56 5.44l.94 2.06.94-2.06 2.06-.94-2.06-.94-.94-2.06-.94 2.06-2.06.94zm-11 1L8.5 8.5l.94-2.06 2.06-.94-2.06-.94L8.5 2.5l-.94 2.06-2.06.94zm10 10l.94 2.06.94-2.06 2.06-.94-2.06-.94-.94-2.06-.94 2.06-2.06.94z\"/><path d=\"M17.41 7.96l-1.37-1.37c-.4-.4-.92-.59-1.43-.59-.52 0-1.04.2-1.43.59L10.3 9.45l-7.72 7.72c-.78.78-.78 2.05 0 2.83L4 21.41c.39.39.9.59 1.41.59.51 0 1.02-.2 1.41-.59l7.78-7.78 2.81-2.81c.8-.78.8-2.07 0-2.86zM5.41 20L4 18.59l7.72-7.72 1.47 1.35L5.41 20z\"/>\n",
              "  </svg>\n",
              "      </button>\n",
              "      \n",
              "  <style>\n",
              "    .colab-df-container {\n",
              "      display:flex;\n",
              "      flex-wrap:wrap;\n",
              "      gap: 12px;\n",
              "    }\n",
              "\n",
              "    .colab-df-convert {\n",
              "      background-color: #E8F0FE;\n",
              "      border: none;\n",
              "      border-radius: 50%;\n",
              "      cursor: pointer;\n",
              "      display: none;\n",
              "      fill: #1967D2;\n",
              "      height: 32px;\n",
              "      padding: 0 0 0 0;\n",
              "      width: 32px;\n",
              "    }\n",
              "\n",
              "    .colab-df-convert:hover {\n",
              "      background-color: #E2EBFA;\n",
              "      box-shadow: 0px 1px 2px rgba(60, 64, 67, 0.3), 0px 1px 3px 1px rgba(60, 64, 67, 0.15);\n",
              "      fill: #174EA6;\n",
              "    }\n",
              "\n",
              "    [theme=dark] .colab-df-convert {\n",
              "      background-color: #3B4455;\n",
              "      fill: #D2E3FC;\n",
              "    }\n",
              "\n",
              "    [theme=dark] .colab-df-convert:hover {\n",
              "      background-color: #434B5C;\n",
              "      box-shadow: 0px 1px 3px 1px rgba(0, 0, 0, 0.15);\n",
              "      filter: drop-shadow(0px 1px 2px rgba(0, 0, 0, 0.3));\n",
              "      fill: #FFFFFF;\n",
              "    }\n",
              "  </style>\n",
              "\n",
              "      <script>\n",
              "        const buttonEl =\n",
              "          document.querySelector('#df-94381955-83e2-406d-903d-6a9cc77c57c1 button.colab-df-convert');\n",
              "        buttonEl.style.display =\n",
              "          google.colab.kernel.accessAllowed ? 'block' : 'none';\n",
              "\n",
              "        async function convertToInteractive(key) {\n",
              "          const element = document.querySelector('#df-94381955-83e2-406d-903d-6a9cc77c57c1');\n",
              "          const dataTable =\n",
              "            await google.colab.kernel.invokeFunction('convertToInteractive',\n",
              "                                                     [key], {});\n",
              "          if (!dataTable) return;\n",
              "\n",
              "          const docLinkHtml = 'Like what you see? Visit the ' +\n",
              "            '<a target=\"_blank\" href=https://colab.research.google.com/notebooks/data_table.ipynb>data table notebook</a>'\n",
              "            + ' to learn more about interactive tables.';\n",
              "          element.innerHTML = '';\n",
              "          dataTable['output_type'] = 'display_data';\n",
              "          await google.colab.output.renderOutput(dataTable, element);\n",
              "          const docLink = document.createElement('div');\n",
              "          docLink.innerHTML = docLinkHtml;\n",
              "          element.appendChild(docLink);\n",
              "        }\n",
              "      </script>\n",
              "    </div>\n",
              "  </div>\n",
              "  "
            ]
          },
          "metadata": {},
          "execution_count": 281
        }
      ]
    },
    {
      "cell_type": "markdown",
      "source": [
        "檢查是否常態"
      ],
      "metadata": {
        "id": "LplGGjuqL7iC"
      }
    },
    {
      "cell_type": "code",
      "source": [
        "fa_E = df_R4[df_R4['facing']=='East']\n",
        "fa_W = df_R4[df_R4['facing']=='West']\n",
        "fa_S = df_R4[df_R4['facing']=='South']\n",
        "fa_N = df_R4[df_R4['facing']=='North']\n",
        "fa_NE = df_R4[df_R4['facing']=='North-East']\n",
        "fa_NW = df_R4[df_R4['facing']=='North-West']"
      ],
      "metadata": {
        "id": "GuybgVBaMDgi"
      },
      "execution_count": null,
      "outputs": []
    },
    {
      "cell_type": "markdown",
      "source": [
        "針對Facing-rent"
      ],
      "metadata": {
        "id": "8sSd2lfrZVlO"
      }
    },
    {
      "cell_type": "code",
      "source": [
        "fa_E_R = fa_E.iloc[:,2:3]\n",
        "fa_W_R = fa_W.iloc[:,2:3]\n",
        "fa_S_R = fa_S.iloc[:,2:3]\n",
        "fa_N_R = fa_N.iloc[:,2:3]\n",
        "fa_NE_R = fa_NE.iloc[:,2:3]\n",
        "fa_NW_R = fa_NW.iloc[:,2:3]"
      ],
      "metadata": {
        "id": "CBys2JrPaNVI"
      },
      "execution_count": null,
      "outputs": []
    },
    {
      "cell_type": "code",
      "source": [
        "fa_E_R = fa_E_R.to_numpy().flatten()\n",
        "fa_W_R = fa_W_R.to_numpy().flatten()\n",
        "fa_S_R = fa_S_R.to_numpy().flatten()\n",
        "fa_N_R = fa_N_R.to_numpy().flatten()\n",
        "fa_NE_R = fa_NE_R.to_numpy().flatten()\n",
        "fa_NW_R = fa_NW_R.to_numpy().flatten()"
      ],
      "metadata": {
        "id": "2EscI0hua1C-"
      },
      "execution_count": null,
      "outputs": []
    },
    {
      "cell_type": "code",
      "source": [
        "print('East:',len(fa_E),'\\n','West:',len(fa_W),'\\n','South:',len(fa_S),\n",
        "      '\\n','North:',len(fa_N),'\\n','North-East:',len(fa_NE),'\\n','North-West:',len(fa_NW))"
      ],
      "metadata": {
        "colab": {
          "base_uri": "https://localhost:8080/"
        },
        "id": "v5toQjOkQvn2",
        "outputId": "c6a63b9d-950d-4d43-c84c-0021520b3cc6"
      },
      "execution_count": null,
      "outputs": [
        {
          "output_type": "stream",
          "name": "stdout",
          "text": [
            "East: 2535 \n",
            " West: 583 \n",
            " South: 207 \n",
            " North: 422 \n",
            " North-East: 320 \n",
            " North-West: 143\n"
          ]
        }
      ]
    },
    {
      "cell_type": "code",
      "source": [
        "import seaborn as sns"
      ],
      "metadata": {
        "id": "YiyxifYafUoW"
      },
      "execution_count": null,
      "outputs": []
    },
    {
      "cell_type": "code",
      "source": [
        "sns.histplot(data=df_R4, x=\"facing\", hue=\"avalable_for\", multiple=\"dodge\", shrink=.8)"
      ],
      "metadata": {
        "colab": {
          "base_uri": "https://localhost:8080/",
          "height": 296
        },
        "id": "QLLkuvPT2b6P",
        "outputId": "52499101-2495-47cb-9613-9075a12fa865"
      },
      "execution_count": null,
      "outputs": [
        {
          "output_type": "execute_result",
          "data": {
            "text/plain": [
              "<matplotlib.axes._subplots.AxesSubplot at 0x7f2e411780d0>"
            ]
          },
          "metadata": {},
          "execution_count": 287
        },
        {
          "output_type": "display_data",
          "data": {
            "text/plain": [
              "<Figure size 432x288 with 1 Axes>"
            ],
            "image/png": "[encoded data removed]"
          },
          "metadata": {
            "needs_background": "light"
          }
        }
      ]
    },
    {
      "cell_type": "code",
      "source": [
        "sns.relplot(\n",
        "    data=df_R4, x=\"rent\", y=\"area\",\n",
        "    col=\"avalable_for\", hue=\"facing\", style=\"facing\",\n",
        "    kind=\"scatter\"\n",
        ")"
      ],
      "metadata": {
        "colab": {
          "base_uri": "https://localhost:8080/",
          "height": 386
        },
        "id": "I8qbBnkxFUAA",
        "outputId": "65073b76-d80c-4c13-e4df-bb98fe20627a"
      },
      "execution_count": null,
      "outputs": [
        {
          "output_type": "execute_result",
          "data": {
            "text/plain": [
              "<seaborn.axisgrid.FacetGrid at 0x7f2e42d250d0>"
            ]
          },
          "metadata": {},
          "execution_count": 328
        },
        {
          "output_type": "display_data",
          "data": {
            "text/plain": [
              "<Figure size 811.625x360 with 2 Axes>"
            ],
            "image/png": "[encoded data removed]"
          },
          "metadata": {
            "needs_background": "light"
          }
        }
      ]
    },
    {
      "cell_type": "code",
      "source": [
        "sns.displot(data=fa_E,x='rent',kde='true')"
      ],
      "metadata": {
        "colab": {
          "base_uri": "https://localhost:8080/",
          "height": 386
        },
        "id": "8y9NiBMBgVZe",
        "outputId": "0fbe0e06-42e8-4633-bf6d-99eecfb37fd5"
      },
      "execution_count": null,
      "outputs": [
        {
          "output_type": "execute_result",
          "data": {
            "text/plain": [
              "<seaborn.axisgrid.FacetGrid at 0x7f2e4111e490>"
            ]
          },
          "metadata": {},
          "execution_count": 289
        },
        {
          "output_type": "display_data",
          "data": {
            "text/plain": [
              "<Figure size 360x360 with 1 Axes>"
            ],
            "image/png": "[encoded data removed]"
          },
          "metadata": {
            "needs_background": "light"
          }
        }
      ]
    },
    {
      "cell_type": "code",
      "source": [
        "sns.displot(data=fa_E,x='area',kde='true')"
      ],
      "metadata": {
        "colab": {
          "base_uri": "https://localhost:8080/",
          "height": 386
        },
        "id": "gPvPj8MrH2z4",
        "outputId": "894c992a-8e64-47af-a528-94badf9f1830"
      },
      "execution_count": null,
      "outputs": [
        {
          "output_type": "execute_result",
          "data": {
            "text/plain": [
              "<seaborn.axisgrid.FacetGrid at 0x7f2e414a5490>"
            ]
          },
          "metadata": {},
          "execution_count": 330
        },
        {
          "output_type": "display_data",
          "data": {
            "text/plain": [
              "<Figure size 360x360 with 1 Axes>"
            ],
            "image/png": "[encoded data removed]"
          },
          "metadata": {
            "needs_background": "light"
          }
        }
      ]
    },
    {
      "cell_type": "code",
      "source": [
        "sns.displot(data=fa_W,x='rent',kde='true')"
      ],
      "metadata": {
        "colab": {
          "base_uri": "https://localhost:8080/",
          "height": 386
        },
        "id": "YdtwvdI8wqHT",
        "outputId": "e07502fb-436b-4ac3-e1a3-8e8d0e12f9ea"
      },
      "execution_count": null,
      "outputs": [
        {
          "output_type": "execute_result",
          "data": {
            "text/plain": [
              "<seaborn.axisgrid.FacetGrid at 0x7f2e43819ed0>"
            ]
          },
          "metadata": {},
          "execution_count": 331
        },
        {
          "output_type": "display_data",
          "data": {
            "text/plain": [
              "<Figure size 360x360 with 1 Axes>"
            ],
            "image/png": "[encoded data removed]"
          },
          "metadata": {
            "needs_background": "light"
          }
        }
      ]
    },
    {
      "cell_type": "code",
      "source": [
        "sns.displot(data=fa_W,x='area',kde='true')"
      ],
      "metadata": {
        "colab": {
          "base_uri": "https://localhost:8080/",
          "height": 386
        },
        "id": "LBoFm0OEIQts",
        "outputId": "ce51bcd5-c121-4ba0-d3b9-dc8c2744c3b5"
      },
      "execution_count": null,
      "outputs": [
        {
          "output_type": "execute_result",
          "data": {
            "text/plain": [
              "<seaborn.axisgrid.FacetGrid at 0x7f2e4385f8d0>"
            ]
          },
          "metadata": {},
          "execution_count": 332
        },
        {
          "output_type": "display_data",
          "data": {
            "text/plain": [
              "<Figure size 360x360 with 1 Axes>"
            ],
            "image/png": "[encoded data removed]"
          },
          "metadata": {
            "needs_background": "light"
          }
        }
      ]
    },
    {
      "cell_type": "code",
      "source": [
        "sns.displot(data=fa_N,x='rent',kde='true')"
      ],
      "metadata": {
        "colab": {
          "base_uri": "https://localhost:8080/",
          "height": 386
        },
        "id": "4exxRpj7wxBX",
        "outputId": "7850ad32-eec6-4bae-907d-e285cea431ea"
      },
      "execution_count": null,
      "outputs": [
        {
          "output_type": "execute_result",
          "data": {
            "text/plain": [
              "<seaborn.axisgrid.FacetGrid at 0x7f2e41539350>"
            ]
          },
          "metadata": {},
          "execution_count": 333
        },
        {
          "output_type": "display_data",
          "data": {
            "text/plain": [
              "<Figure size 360x360 with 1 Axes>"
            ],
            "image/png": "[encoded data removed]"
          },
          "metadata": {
            "needs_background": "light"
          }
        }
      ]
    },
    {
      "cell_type": "code",
      "source": [
        "sns.displot(data=fa_N,x='area',kde='true')"
      ],
      "metadata": {
        "colab": {
          "base_uri": "https://localhost:8080/",
          "height": 386
        },
        "id": "7itazeioIhAX",
        "outputId": "17853874-945c-470a-e69c-71067f3212ba"
      },
      "execution_count": null,
      "outputs": [
        {
          "output_type": "execute_result",
          "data": {
            "text/plain": [
              "<seaborn.axisgrid.FacetGrid at 0x7f2e3f7bad10>"
            ]
          },
          "metadata": {},
          "execution_count": 334
        },
        {
          "output_type": "display_data",
          "data": {
            "text/plain": [
              "<Figure size 360x360 with 1 Axes>"
            ],
            "image/png": "[encoded data removed]"
          },
          "metadata": {
            "needs_background": "light"
          }
        }
      ]
    },
    {
      "cell_type": "code",
      "source": [
        "sns.displot(data=fa_S,x='rent',kde='true')"
      ],
      "metadata": {
        "colab": {
          "base_uri": "https://localhost:8080/",
          "height": 386
        },
        "id": "7i5faZF7xACD",
        "outputId": "7e8b965c-9677-4305-8e58-3355ac7d4338"
      },
      "execution_count": null,
      "outputs": [
        {
          "output_type": "execute_result",
          "data": {
            "text/plain": [
              "<seaborn.axisgrid.FacetGrid at 0x7f2e3f665390>"
            ]
          },
          "metadata": {},
          "execution_count": 335
        },
        {
          "output_type": "display_data",
          "data": {
            "text/plain": [
              "<Figure size 360x360 with 1 Axes>"
            ],
            "image/png": "[encoded data removed]"
          },
          "metadata": {
            "needs_background": "light"
          }
        }
      ]
    },
    {
      "cell_type": "code",
      "source": [
        "sns.displot(data=fa_S,x='area',kde='true')"
      ],
      "metadata": {
        "colab": {
          "base_uri": "https://localhost:8080/",
          "height": 386
        },
        "id": "aWrPnorXIwiz",
        "outputId": "18f237ae-1f33-4738-b580-becf8775422b"
      },
      "execution_count": null,
      "outputs": [
        {
          "output_type": "execute_result",
          "data": {
            "text/plain": [
              "<seaborn.axisgrid.FacetGrid at 0x7f2e3f5e0b10>"
            ]
          },
          "metadata": {},
          "execution_count": 336
        },
        {
          "output_type": "display_data",
          "data": {
            "text/plain": [
              "<Figure size 360x360 with 1 Axes>"
            ],
            "image/png": "[encoded data removed]"
          },
          "metadata": {
            "needs_background": "light"
          }
        }
      ]
    },
    {
      "cell_type": "code",
      "source": [
        "sns.displot(data=fa_NE,x='rent',kde='true')"
      ],
      "metadata": {
        "colab": {
          "base_uri": "https://localhost:8080/",
          "height": 386
        },
        "id": "SIH-OTWkxDEq",
        "outputId": "a1a1f386-d59d-411d-dba0-924f9c6931c8"
      },
      "execution_count": null,
      "outputs": [
        {
          "output_type": "execute_result",
          "data": {
            "text/plain": [
              "<seaborn.axisgrid.FacetGrid at 0x7f2e3f665f90>"
            ]
          },
          "metadata": {},
          "execution_count": 337
        },
        {
          "output_type": "display_data",
          "data": {
            "text/plain": [
              "<Figure size 360x360 with 1 Axes>"
            ],
            "image/png": "[encoded data removed]"
          },
          "metadata": {
            "needs_background": "light"
          }
        }
      ]
    },
    {
      "cell_type": "code",
      "source": [
        "sns.displot(data=fa_NE,x='area',kde='true')"
      ],
      "metadata": {
        "colab": {
          "base_uri": "https://localhost:8080/",
          "height": 386
        },
        "id": "_dZhZj4iJFUJ",
        "outputId": "72796212-2b1d-4e99-ccff-2efdc7b75a57"
      },
      "execution_count": null,
      "outputs": [
        {
          "output_type": "execute_result",
          "data": {
            "text/plain": [
              "<seaborn.axisgrid.FacetGrid at 0x7f2e3f4a2f90>"
            ]
          },
          "metadata": {},
          "execution_count": 338
        },
        {
          "output_type": "display_data",
          "data": {
            "text/plain": [
              "<Figure size 360x360 with 1 Axes>"
            ],
            "image/png": "[encoded data removed]"
          },
          "metadata": {
            "needs_background": "light"
          }
        }
      ]
    },
    {
      "cell_type": "code",
      "source": [
        "sns.displot(data=fa_NW,x='rent',kde='true')"
      ],
      "metadata": {
        "colab": {
          "base_uri": "https://localhost:8080/",
          "height": 386
        },
        "id": "jgXdbk27xG8v",
        "outputId": "557bdbb9-b6b1-4bdd-f63f-27339c973056"
      },
      "execution_count": null,
      "outputs": [
        {
          "output_type": "execute_result",
          "data": {
            "text/plain": [
              "<seaborn.axisgrid.FacetGrid at 0x7f2e3f5867d0>"
            ]
          },
          "metadata": {},
          "execution_count": 339
        },
        {
          "output_type": "display_data",
          "data": {
            "text/plain": [
              "<Figure size 360x360 with 1 Axes>"
            ],
            "image/png": "[encoded data removed]"
          },
          "metadata": {
            "needs_background": "light"
          }
        }
      ]
    },
    {
      "cell_type": "code",
      "source": [
        "sns.displot(data=fa_NW,x='area',kde='true')"
      ],
      "metadata": {
        "colab": {
          "base_uri": "https://localhost:8080/",
          "height": 386
        },
        "id": "2J670TMNJUXP",
        "outputId": "c7c8c0a0-99b9-4b01-8b99-3517ef2ca716"
      },
      "execution_count": null,
      "outputs": [
        {
          "output_type": "execute_result",
          "data": {
            "text/plain": [
              "<seaborn.axisgrid.FacetGrid at 0x7f2e3f4da050>"
            ]
          },
          "metadata": {},
          "execution_count": 340
        },
        {
          "output_type": "display_data",
          "data": {
            "text/plain": [
              "<Figure size 360x360 with 1 Axes>"
            ],
            "image/png": "[encoded data removed]"
          },
          "metadata": {
            "needs_background": "light"
          }
        }
      ]
    },
    {
      "cell_type": "code",
      "source": [
        "import scipy.stats as stats"
      ],
      "metadata": {
        "id": "OmIJEJuJgIX0"
      },
      "execution_count": null,
      "outputs": []
    },
    {
      "cell_type": "code",
      "source": [
        "stats.levene(fa_E_R,fa_W_R,fa_S_R,fa_N_R,fa_NE_R,fa_NW_R)"
      ],
      "metadata": {
        "colab": {
          "base_uri": "https://localhost:8080/"
        },
        "id": "UfoLQCZyb2XP",
        "outputId": "41b16592-5b45-4130-f44e-2cb704838f98"
      },
      "execution_count": null,
      "outputs": [
        {
          "output_type": "execute_result",
          "data": {
            "text/plain": [
              "LeveneResult(statistic=3.0583397916902486, pvalue=0.009269777811675255)"
            ]
          },
          "metadata": {},
          "execution_count": 227
        }
      ]
    },
    {
      "cell_type": "markdown",
      "source": [
        "針對Facing-Area"
      ],
      "metadata": {
        "id": "y3aIM-V2jQA3"
      }
    },
    {
      "cell_type": "code",
      "source": [
        "fa_E_B = fa_E.iloc[:,3:4]\n",
        "fa_W_B = fa_W.iloc[:,3:4]\n",
        "fa_S_B = fa_S.iloc[:,3:4]\n",
        "fa_N_B = fa_N.iloc[:,3:4]\n",
        "fa_NE_B = fa_NE.iloc[:,3:4]\n",
        "fa_NW_B = fa_NW.iloc[:,3:4]"
      ],
      "metadata": {
        "id": "n2RRr7rKjRyD"
      },
      "execution_count": null,
      "outputs": []
    },
    {
      "cell_type": "code",
      "source": [
        "fa_E_B = fa_E_B.to_numpy().flatten()\n",
        "fa_W_B = fa_W_B.to_numpy().flatten()\n",
        "fa_S_B = fa_S_B.to_numpy().flatten()\n",
        "fa_N_B = fa_N_B.to_numpy().flatten()\n",
        "fa_NE_B = fa_NE_B.to_numpy().flatten()\n",
        "fa_NW_B = fa_NW_B.to_numpy().flatten()"
      ],
      "metadata": {
        "id": "S2vpgljWjfYK"
      },
      "execution_count": null,
      "outputs": []
    },
    {
      "cell_type": "code",
      "source": [
        "stats.levene(fa_E_B,fa_W_B,fa_S_B,fa_N_B,fa_NE_B,fa_NW_B)"
      ],
      "metadata": {
        "colab": {
          "base_uri": "https://localhost:8080/"
        },
        "id": "0nvEHhpbj0ad",
        "outputId": "80591a49-4f07-40ea-9ba4-68f2b67536ed"
      },
      "execution_count": null,
      "outputs": [
        {
          "output_type": "execute_result",
          "data": {
            "text/plain": [
              "LeveneResult(statistic=0.47464108317752285, pvalue=0.7954317584190675)"
            ]
          },
          "metadata": {},
          "execution_count": 232
        }
      ]
    },
    {
      "cell_type": "markdown",
      "source": [
        "針對 year"
      ],
      "metadata": {
        "id": "6G0cMMV1rIea"
      }
    },
    {
      "cell_type": "code",
      "source": [
        "ye_1 = df_R4[df_R4['avalable_for']=='All']\n",
        "ye_2 = df_R4[df_R4['avalable_for']=='Family Only']"
      ],
      "metadata": {
        "id": "cREcqWMFeVsR"
      },
      "execution_count": null,
      "outputs": []
    },
    {
      "cell_type": "code",
      "source": [
        "print('All:',len(ye_1),'\\n','Family Only:',len(ye_2))"
      ],
      "metadata": {
        "colab": {
          "base_uri": "https://localhost:8080/"
        },
        "id": "AsM1NTxreb01",
        "outputId": "f728f9b5-3250-4137-fbe6-8b6bda03f3ce"
      },
      "execution_count": null,
      "outputs": [
        {
          "output_type": "stream",
          "name": "stdout",
          "text": [
            "All: 2396 \n",
            " Family Only: 1814\n"
          ]
        }
      ]
    },
    {
      "cell_type": "code",
      "source": [
        "sns.displot(data=ye_1,x='rent',kde='true')"
      ],
      "metadata": {
        "colab": {
          "base_uri": "https://localhost:8080/",
          "height": 386
        },
        "id": "hnHru3iLehH_",
        "outputId": "cb193dc7-3a70-45cf-f90d-7ae1e56ab06a"
      },
      "execution_count": null,
      "outputs": [
        {
          "output_type": "execute_result",
          "data": {
            "text/plain": [
              "<seaborn.axisgrid.FacetGrid at 0x7f2e3f2f3050>"
            ]
          },
          "metadata": {},
          "execution_count": 343
        },
        {
          "output_type": "display_data",
          "data": {
            "text/plain": [
              "<Figure size 360x360 with 1 Axes>"
            ],
            "image/png": "[encoded data removed]"
          },
          "metadata": {
            "needs_background": "light"
          }
        }
      ]
    },
    {
      "cell_type": "code",
      "source": [
        "sns.displot(data=ye_1,x='area',kde='true')"
      ],
      "metadata": {
        "colab": {
          "base_uri": "https://localhost:8080/",
          "height": 386
        },
        "id": "t3fUeSFWKj74",
        "outputId": "a76380d5-1fd8-4eeb-df9d-97aaa05ba01b"
      },
      "execution_count": null,
      "outputs": [
        {
          "output_type": "execute_result",
          "data": {
            "text/plain": [
              "<seaborn.axisgrid.FacetGrid at 0x7f2e3f2f32d0>"
            ]
          },
          "metadata": {},
          "execution_count": 345
        },
        {
          "output_type": "display_data",
          "data": {
            "text/plain": [
              "<Figure size 360x360 with 1 Axes>"
            ],
            "image/png": "[encoded data removed]"
          },
          "metadata": {
            "needs_background": "light"
          }
        }
      ]
    },
    {
      "cell_type": "code",
      "source": [
        "sns.displot(data=ye_2,x='rent',kde='true')"
      ],
      "metadata": {
        "colab": {
          "base_uri": "https://localhost:8080/",
          "height": 386
        },
        "id": "wLaQjHhteiQh",
        "outputId": "8627a58e-d9d9-43e4-faab-bdc2db1682bb"
      },
      "execution_count": null,
      "outputs": [
        {
          "output_type": "execute_result",
          "data": {
            "text/plain": [
              "<seaborn.axisgrid.FacetGrid at 0x7f2e3f2e4650>"
            ]
          },
          "metadata": {},
          "execution_count": 344
        },
        {
          "output_type": "display_data",
          "data": {
            "text/plain": [
              "<Figure size 360x360 with 1 Axes>"
            ],
            "image/png": "[encoded data removed]"
          },
          "metadata": {
            "needs_background": "light"
          }
        }
      ]
    },
    {
      "cell_type": "code",
      "source": [
        "sns.displot(data=ye_2,x='area',kde='true')"
      ],
      "metadata": {
        "colab": {
          "base_uri": "https://localhost:8080/",
          "height": 386
        },
        "id": "XSRyispLKvo5",
        "outputId": "23640c8f-6683-472a-ec78-1abf3f83bf56"
      },
      "execution_count": null,
      "outputs": [
        {
          "output_type": "execute_result",
          "data": {
            "text/plain": [
              "<seaborn.axisgrid.FacetGrid at 0x7f2e3f1c6a90>"
            ]
          },
          "metadata": {},
          "execution_count": 346
        },
        {
          "output_type": "display_data",
          "data": {
            "text/plain": [
              "<Figure size 360x360 with 1 Axes>"
            ],
            "image/png": "[encoded data removed]"
          },
          "metadata": {
            "needs_background": "light"
          }
        }
      ]
    },
    {
      "cell_type": "code",
      "source": [
        "ye_1_R = ye_1.iloc[:,2:3]\n",
        "ye_2_R = ye_2.iloc[:,2:3]\n",
        "ye_1_R = ye_1_R.to_numpy().flatten()\n",
        "ye_2_R = ye_2_R.to_numpy().flatten()"
      ],
      "metadata": {
        "id": "Aoj9E7Fkekms"
      },
      "execution_count": null,
      "outputs": []
    },
    {
      "cell_type": "code",
      "source": [
        "stats.levene(ye_1_R,ye_2_R)"
      ],
      "metadata": {
        "colab": {
          "base_uri": "https://localhost:8080/"
        },
        "id": "NdcYQDYXeuC4",
        "outputId": "6b152373-2a97-425e-f926-518af734639e"
      },
      "execution_count": null,
      "outputs": [
        {
          "output_type": "execute_result",
          "data": {
            "text/plain": [
              "LeveneResult(statistic=0.2930554749332106, pvalue=0.58831707856313)"
            ]
          },
          "metadata": {},
          "execution_count": 185
        }
      ]
    },
    {
      "cell_type": "code",
      "source": [
        "ye_1_B = ye_1.iloc[:,3:4]\n",
        "ye_2_B = ye_2.iloc[:,3:4]\n",
        "ye_1_B = ye_1_B.to_numpy().flatten()\n",
        "ye_2_B = ye_2_B.to_numpy().flatten()"
      ],
      "metadata": {
        "id": "esAO4pKXeyJY"
      },
      "execution_count": null,
      "outputs": []
    },
    {
      "cell_type": "code",
      "source": [
        "stats.levene(ye_1_B,ye_2_B)"
      ],
      "metadata": {
        "colab": {
          "base_uri": "https://localhost:8080/"
        },
        "id": "ggGDdNvHe4vR",
        "outputId": "5dde72b9-175a-4596-b978-58fe827e58d2"
      },
      "execution_count": null,
      "outputs": [
        {
          "output_type": "execute_result",
          "data": {
            "text/plain": [
              "LeveneResult(statistic=0.02279836601661016, pvalue=0.8799947052928234)"
            ]
          },
          "metadata": {},
          "execution_count": 187
        }
      ]
    },
    {
      "cell_type": "code",
      "source": [
        "from statsmodels.multivariate.manova import MANOVA"
      ],
      "metadata": {
        "id": "Fat7RFtUG53L"
      },
      "execution_count": null,
      "outputs": []
    },
    {
      "cell_type": "code",
      "source": [
        "maov = MANOVA.from_formula('rent + area ~ facing + avalable_for + facing*avalable_for'\\\n",
        ",data = df_R4)"
      ],
      "metadata": {
        "id": "9VEk8s7SG-OS"
      },
      "execution_count": null,
      "outputs": []
    },
    {
      "cell_type": "code",
      "source": [
        "print(maov.mv_test())"
      ],
      "metadata": {
        "colab": {
          "base_uri": "https://localhost:8080/"
        },
        "id": "csb1MSspH00N",
        "outputId": "680947b7-1ddb-4378-b1d5-8f8b9171a996"
      },
      "execution_count": null,
      "outputs": [
        {
          "output_type": "stream",
          "name": "stdout",
          "text": [
            "                   Multivariate linear model\n",
            "================================================================\n",
            "                                                                \n",
            "----------------------------------------------------------------\n",
            "       Intercept        Value  Num DF   Den DF   F Value  Pr > F\n",
            "----------------------------------------------------------------\n",
            "          Wilks' lambda 0.2536 2.0000 4197.0000 6176.7522 0.0000\n",
            "         Pillai's trace 0.7464 2.0000 4197.0000 6176.7522 0.0000\n",
            " Hotelling-Lawley trace 2.9434 2.0000 4197.0000 6176.7522 0.0000\n",
            "    Roy's greatest root 2.9434 2.0000 4197.0000 6176.7522 0.0000\n",
            "----------------------------------------------------------------\n",
            "                                                                \n",
            "----------------------------------------------------------------\n",
            "          facing         Value   Num DF   Den DF  F Value Pr > F\n",
            "----------------------------------------------------------------\n",
            "           Wilks' lambda 0.9886 10.0000 8394.0000  4.8272 0.0000\n",
            "          Pillai's trace 0.0114 10.0000 8396.0000  4.8180 0.0000\n",
            "  Hotelling-Lawley trace 0.0115 10.0000 6292.7506  4.8369 0.0000\n",
            "     Roy's greatest root 0.0108  5.0000 4198.0000  9.0274 0.0000\n",
            "----------------------------------------------------------------\n",
            "                                                                \n",
            "----------------------------------------------------------------\n",
            "        avalable_for      Value  Num DF   Den DF  F Value Pr > F\n",
            "----------------------------------------------------------------\n",
            "            Wilks' lambda 0.9931 2.0000 4197.0000 14.5301 0.0000\n",
            "           Pillai's trace 0.0069 2.0000 4197.0000 14.5301 0.0000\n",
            "   Hotelling-Lawley trace 0.0069 2.0000 4197.0000 14.5301 0.0000\n",
            "      Roy's greatest root 0.0069 2.0000 4197.0000 14.5301 0.0000\n",
            "----------------------------------------------------------------\n",
            "                                                                \n",
            "----------------------------------------------------------------\n",
            "   facing:avalable_for   Value   Num DF   Den DF  F Value Pr > F\n",
            "----------------------------------------------------------------\n",
            "           Wilks' lambda 0.9982 10.0000 8394.0000  0.7383 0.6888\n",
            "          Pillai's trace 0.0018 10.0000 8396.0000  0.7384 0.6888\n",
            "  Hotelling-Lawley trace 0.0018 10.0000 6292.7506  0.7383 0.6888\n",
            "     Roy's greatest root 0.0014  5.0000 4198.0000  1.1445 0.3344\n",
            "================================================================\n",
            "\n"
          ]
        }
      ]
    },
    {
      "cell_type": "markdown",
      "source": [
        "Two-way anova"
      ],
      "metadata": {
        "id": "AMpGsE-URujN"
      }
    },
    {
      "cell_type": "code",
      "source": [
        "import statsmodels.api as sm\n",
        "from statsmodels.formula.api import ols"
      ],
      "metadata": {
        "id": "PIfZnUfgqXAy"
      },
      "execution_count": null,
      "outputs": []
    },
    {
      "cell_type": "code",
      "source": [
        "df_A = df_R4['avalable_for']\n",
        "df_F = df_R4['facing']\n",
        "df_R = df_R4['rent']\n",
        "df_E = df_R4['area']"
      ],
      "metadata": {
        "id": "meTaL3JYfF5x"
      },
      "execution_count": null,
      "outputs": []
    },
    {
      "cell_type": "code",
      "source": [
        "df_R7 = pd.DataFrame({'avalable_for':df_A,'facing':df_F,'area':df_E})\n",
        "df_R7"
      ],
      "metadata": {
        "id": "GgeX0YCFSEM5",
        "colab": {
          "base_uri": "https://localhost:8080/",
          "height": 424
        },
        "outputId": "cc301278-9a42-4219-d3b5-4b3b3b2c7f92"
      },
      "execution_count": null,
      "outputs": [
        {
          "output_type": "execute_result",
          "data": {
            "text/plain": [
              "     avalable_for      facing    area\n",
              "0             All        West  1050.0\n",
              "1             All        East   760.0\n",
              "2     Family Only        East   628.0\n",
              "3     Family Only        East  1530.0\n",
              "4             All  North-West  1400.0\n",
              "...           ...         ...     ...\n",
              "4205          All        East   800.0\n",
              "4206          All       North   805.0\n",
              "4207  Family Only       North   900.0\n",
              "4208  Family Only       South   750.0\n",
              "4209          All        East   500.0\n",
              "\n",
              "[4210 rows x 3 columns]"
            ],
            "text/html": [
              "\n",
              "  <div id=\"df-8c6a79b3-f97c-4469-81cc-a474efe32e03\">\n",
              "    <div class=\"colab-df-container\">\n",
              "      <div>\n",
              "<style scoped>\n",
              "    .dataframe tbody tr th:only-of-type {\n",
              "        vertical-align: middle;\n",
              "    }\n",
              "\n",
              "    .dataframe tbody tr th {\n",
              "        vertical-align: top;\n",
              "    }\n",
              "\n",
              "    .dataframe thead th {\n",
              "        text-align: right;\n",
              "    }\n",
              "</style>\n",
              "<table border=\"1\" class=\"dataframe\">\n",
              "  <thead>\n",
              "    <tr style=\"text-align: right;\">\n",
              "      <th></th>\n",
              "      <th>avalable_for</th>\n",
              "      <th>facing</th>\n",
              "      <th>area</th>\n",
              "    </tr>\n",
              "  </thead>\n",
              "  <tbody>\n",
              "    <tr>\n",
              "      <th>0</th>\n",
              "      <td>All</td>\n",
              "      <td>West</td>\n",
              "      <td>1050.0</td>\n",
              "    </tr>\n",
              "    <tr>\n",
              "      <th>1</th>\n",
              "      <td>All</td>\n",
              "      <td>East</td>\n",
              "      <td>760.0</td>\n",
              "    </tr>\n",
              "    <tr>\n",
              "      <th>2</th>\n",
              "      <td>Family Only</td>\n",
              "      <td>East</td>\n",
              "      <td>628.0</td>\n",
              "    </tr>\n",
              "    <tr>\n",
              "      <th>3</th>\n",
              "      <td>Family Only</td>\n",
              "      <td>East</td>\n",
              "      <td>1530.0</td>\n",
              "    </tr>\n",
              "    <tr>\n",
              "      <th>4</th>\n",
              "      <td>All</td>\n",
              "      <td>North-West</td>\n",
              "      <td>1400.0</td>\n",
              "    </tr>\n",
              "    <tr>\n",
              "      <th>...</th>\n",
              "      <td>...</td>\n",
              "      <td>...</td>\n",
              "      <td>...</td>\n",
              "    </tr>\n",
              "    <tr>\n",
              "      <th>4205</th>\n",
              "      <td>All</td>\n",
              "      <td>East</td>\n",
              "      <td>800.0</td>\n",
              "    </tr>\n",
              "    <tr>\n",
              "      <th>4206</th>\n",
              "      <td>All</td>\n",
              "      <td>North</td>\n",
              "      <td>805.0</td>\n",
              "    </tr>\n",
              "    <tr>\n",
              "      <th>4207</th>\n",
              "      <td>Family Only</td>\n",
              "      <td>North</td>\n",
              "      <td>900.0</td>\n",
              "    </tr>\n",
              "    <tr>\n",
              "      <th>4208</th>\n",
              "      <td>Family Only</td>\n",
              "      <td>South</td>\n",
              "      <td>750.0</td>\n",
              "    </tr>\n",
              "    <tr>\n",
              "      <th>4209</th>\n",
              "      <td>All</td>\n",
              "      <td>East</td>\n",
              "      <td>500.0</td>\n",
              "    </tr>\n",
              "  </tbody>\n",
              "</table>\n",
              "<p>4210 rows × 3 columns</p>\n",
              "</div>\n",
              "      <button class=\"colab-df-convert\" onclick=\"convertToInteractive('df-8c6a79b3-f97c-4469-81cc-a474efe32e03')\"\n",
              "              title=\"Convert this dataframe to an interactive table.\"\n",
              "              style=\"display:none;\">\n",
              "        \n",
              "  <svg xmlns=\"http://www.w3.org/2000/svg\" height=\"24px\"viewBox=\"0 0 24 24\"\n",
              "       width=\"24px\">\n",
              "    <path d=\"M0 0h24v24H0V0z\" fill=\"none\"/>\n",
              "    <path d=\"M18.56 5.44l.94 2.06.94-2.06 2.06-.94-2.06-.94-.94-2.06-.94 2.06-2.06.94zm-11 1L8.5 8.5l.94-2.06 2.06-.94-2.06-.94L8.5 2.5l-.94 2.06-2.06.94zm10 10l.94 2.06.94-2.06 2.06-.94-2.06-.94-.94-2.06-.94 2.06-2.06.94z\"/><path d=\"M17.41 7.96l-1.37-1.37c-.4-.4-.92-.59-1.43-.59-.52 0-1.04.2-1.43.59L10.3 9.45l-7.72 7.72c-.78.78-.78 2.05 0 2.83L4 21.41c.39.39.9.59 1.41.59.51 0 1.02-.2 1.41-.59l7.78-7.78 2.81-2.81c.8-.78.8-2.07 0-2.86zM5.41 20L4 18.59l7.72-7.72 1.47 1.35L5.41 20z\"/>\n",
              "  </svg>\n",
              "      </button>\n",
              "      \n",
              "  <style>\n",
              "    .colab-df-container {\n",
              "      display:flex;\n",
              "      flex-wrap:wrap;\n",
              "      gap: 12px;\n",
              "    }\n",
              "\n",
              "    .colab-df-convert {\n",
              "      background-color: #E8F0FE;\n",
              "      border: none;\n",
              "      border-radius: 50%;\n",
              "      cursor: pointer;\n",
              "      display: none;\n",
              "      fill: #1967D2;\n",
              "      height: 32px;\n",
              "      padding: 0 0 0 0;\n",
              "      width: 32px;\n",
              "    }\n",
              "\n",
              "    .colab-df-convert:hover {\n",
              "      background-color: #E2EBFA;\n",
              "      box-shadow: 0px 1px 2px rgba(60, 64, 67, 0.3), 0px 1px 3px 1px rgba(60, 64, 67, 0.15);\n",
              "      fill: #174EA6;\n",
              "    }\n",
              "\n",
              "    [theme=dark] .colab-df-convert {\n",
              "      background-color: #3B4455;\n",
              "      fill: #D2E3FC;\n",
              "    }\n",
              "\n",
              "    [theme=dark] .colab-df-convert:hover {\n",
              "      background-color: #434B5C;\n",
              "      box-shadow: 0px 1px 3px 1px rgba(0, 0, 0, 0.15);\n",
              "      filter: drop-shadow(0px 1px 2px rgba(0, 0, 0, 0.3));\n",
              "      fill: #FFFFFF;\n",
              "    }\n",
              "  </style>\n",
              "\n",
              "      <script>\n",
              "        const buttonEl =\n",
              "          document.querySelector('#df-8c6a79b3-f97c-4469-81cc-a474efe32e03 button.colab-df-convert');\n",
              "        buttonEl.style.display =\n",
              "          google.colab.kernel.accessAllowed ? 'block' : 'none';\n",
              "\n",
              "        async function convertToInteractive(key) {\n",
              "          const element = document.querySelector('#df-8c6a79b3-f97c-4469-81cc-a474efe32e03');\n",
              "          const dataTable =\n",
              "            await google.colab.kernel.invokeFunction('convertToInteractive',\n",
              "                                                     [key], {});\n",
              "          if (!dataTable) return;\n",
              "\n",
              "          const docLinkHtml = 'Like what you see? Visit the ' +\n",
              "            '<a target=\"_blank\" href=https://colab.research.google.com/notebooks/data_table.ipynb>data table notebook</a>'\n",
              "            + ' to learn more about interactive tables.';\n",
              "          element.innerHTML = '';\n",
              "          dataTable['output_type'] = 'display_data';\n",
              "          await google.colab.output.renderOutput(dataTable, element);\n",
              "          const docLink = document.createElement('div');\n",
              "          docLink.innerHTML = docLinkHtml;\n",
              "          element.appendChild(docLink);\n",
              "        }\n",
              "      </script>\n",
              "    </div>\n",
              "  </div>\n",
              "  "
            ]
          },
          "metadata": {},
          "execution_count": 307
        }
      ]
    },
    {
      "cell_type": "code",
      "source": [
        "mod = ols('area~avalable_for*facing', data = df_R7).fit()\n",
        "sm.stats.anova_lm(mod, typ = 2)"
      ],
      "metadata": {
        "colab": {
          "base_uri": "https://localhost:8080/",
          "height": 175
        },
        "id": "8qHNNmO_R_to",
        "outputId": "6e4e27f2-d9a9-42f7-9c11-1d457905d814"
      },
      "execution_count": null,
      "outputs": [
        {
          "output_type": "execute_result",
          "data": {
            "text/plain": [
              "                           sum_sq      df          F        PR(>F)\n",
              "avalable_for         2.985314e+06     1.0  38.902021  4.896047e-10\n",
              "facing               5.373311e+06     5.0  14.004067  1.322564e-13\n",
              "avalable_for:facing  1.302441e+05     5.0   0.339446  8.892157e-01\n",
              "Residual             3.221515e+08  4198.0        NaN           NaN"
            ],
            "text/html": [
              "\n",
              "  <div id=\"df-35d04616-026d-4afc-865a-5e3a3d622a93\">\n",
              "    <div class=\"colab-df-container\">\n",
              "      <div>\n",
              "<style scoped>\n",
              "    .dataframe tbody tr th:only-of-type {\n",
              "        vertical-align: middle;\n",
              "    }\n",
              "\n",
              "    .dataframe tbody tr th {\n",
              "        vertical-align: top;\n",
              "    }\n",
              "\n",
              "    .dataframe thead th {\n",
              "        text-align: right;\n",
              "    }\n",
              "</style>\n",
              "<table border=\"1\" class=\"dataframe\">\n",
              "  <thead>\n",
              "    <tr style=\"text-align: right;\">\n",
              "      <th></th>\n",
              "      <th>sum_sq</th>\n",
              "      <th>df</th>\n",
              "      <th>F</th>\n",
              "      <th>PR(&gt;F)</th>\n",
              "    </tr>\n",
              "  </thead>\n",
              "  <tbody>\n",
              "    <tr>\n",
              "      <th>avalable_for</th>\n",
              "      <td>2.985314e+06</td>\n",
              "      <td>1.0</td>\n",
              "      <td>38.902021</td>\n",
              "      <td>4.896047e-10</td>\n",
              "    </tr>\n",
              "    <tr>\n",
              "      <th>facing</th>\n",
              "      <td>5.373311e+06</td>\n",
              "      <td>5.0</td>\n",
              "      <td>14.004067</td>\n",
              "      <td>1.322564e-13</td>\n",
              "    </tr>\n",
              "    <tr>\n",
              "      <th>avalable_for:facing</th>\n",
              "      <td>1.302441e+05</td>\n",
              "      <td>5.0</td>\n",
              "      <td>0.339446</td>\n",
              "      <td>8.892157e-01</td>\n",
              "    </tr>\n",
              "    <tr>\n",
              "      <th>Residual</th>\n",
              "      <td>3.221515e+08</td>\n",
              "      <td>4198.0</td>\n",
              "      <td>NaN</td>\n",
              "      <td>NaN</td>\n",
              "    </tr>\n",
              "  </tbody>\n",
              "</table>\n",
              "</div>\n",
              "      <button class=\"colab-df-convert\" onclick=\"convertToInteractive('df-35d04616-026d-4afc-865a-5e3a3d622a93')\"\n",
              "              title=\"Convert this dataframe to an interactive table.\"\n",
              "              style=\"display:none;\">\n",
              "        \n",
              "  <svg xmlns=\"http://www.w3.org/2000/svg\" height=\"24px\"viewBox=\"0 0 24 24\"\n",
              "       width=\"24px\">\n",
              "    <path d=\"M0 0h24v24H0V0z\" fill=\"none\"/>\n",
              "    <path d=\"M18.56 5.44l.94 2.06.94-2.06 2.06-.94-2.06-.94-.94-2.06-.94 2.06-2.06.94zm-11 1L8.5 8.5l.94-2.06 2.06-.94-2.06-.94L8.5 2.5l-.94 2.06-2.06.94zm10 10l.94 2.06.94-2.06 2.06-.94-2.06-.94-.94-2.06-.94 2.06-2.06.94z\"/><path d=\"M17.41 7.96l-1.37-1.37c-.4-.4-.92-.59-1.43-.59-.52 0-1.04.2-1.43.59L10.3 9.45l-7.72 7.72c-.78.78-.78 2.05 0 2.83L4 21.41c.39.39.9.59 1.41.59.51 0 1.02-.2 1.41-.59l7.78-7.78 2.81-2.81c.8-.78.8-2.07 0-2.86zM5.41 20L4 18.59l7.72-7.72 1.47 1.35L5.41 20z\"/>\n",
              "  </svg>\n",
              "      </button>\n",
              "      \n",
              "  <style>\n",
              "    .colab-df-container {\n",
              "      display:flex;\n",
              "      flex-wrap:wrap;\n",
              "      gap: 12px;\n",
              "    }\n",
              "\n",
              "    .colab-df-convert {\n",
              "      background-color: #E8F0FE;\n",
              "      border: none;\n",
              "      border-radius: 50%;\n",
              "      cursor: pointer;\n",
              "      display: none;\n",
              "      fill: #1967D2;\n",
              "      height: 32px;\n",
              "      padding: 0 0 0 0;\n",
              "      width: 32px;\n",
              "    }\n",
              "\n",
              "    .colab-df-convert:hover {\n",
              "      background-color: #E2EBFA;\n",
              "      box-shadow: 0px 1px 2px rgba(60, 64, 67, 0.3), 0px 1px 3px 1px rgba(60, 64, 67, 0.15);\n",
              "      fill: #174EA6;\n",
              "    }\n",
              "\n",
              "    [theme=dark] .colab-df-convert {\n",
              "      background-color: #3B4455;\n",
              "      fill: #D2E3FC;\n",
              "    }\n",
              "\n",
              "    [theme=dark] .colab-df-convert:hover {\n",
              "      background-color: #434B5C;\n",
              "      box-shadow: 0px 1px 3px 1px rgba(0, 0, 0, 0.15);\n",
              "      filter: drop-shadow(0px 1px 2px rgba(0, 0, 0, 0.3));\n",
              "      fill: #FFFFFF;\n",
              "    }\n",
              "  </style>\n",
              "\n",
              "      <script>\n",
              "        const buttonEl =\n",
              "          document.querySelector('#df-35d04616-026d-4afc-865a-5e3a3d622a93 button.colab-df-convert');\n",
              "        buttonEl.style.display =\n",
              "          google.colab.kernel.accessAllowed ? 'block' : 'none';\n",
              "\n",
              "        async function convertToInteractive(key) {\n",
              "          const element = document.querySelector('#df-35d04616-026d-4afc-865a-5e3a3d622a93');\n",
              "          const dataTable =\n",
              "            await google.colab.kernel.invokeFunction('convertToInteractive',\n",
              "                                                     [key], {});\n",
              "          if (!dataTable) return;\n",
              "\n",
              "          const docLinkHtml = 'Like what you see? Visit the ' +\n",
              "            '<a target=\"_blank\" href=https://colab.research.google.com/notebooks/data_table.ipynb>data table notebook</a>'\n",
              "            + ' to learn more about interactive tables.';\n",
              "          element.innerHTML = '';\n",
              "          dataTable['output_type'] = 'display_data';\n",
              "          await google.colab.output.renderOutput(dataTable, element);\n",
              "          const docLink = document.createElement('div');\n",
              "          docLink.innerHTML = docLinkHtml;\n",
              "          element.appendChild(docLink);\n",
              "        }\n",
              "      </script>\n",
              "    </div>\n",
              "  </div>\n",
              "  "
            ]
          },
          "metadata": {},
          "execution_count": 308
        }
      ]
    },
    {
      "cell_type": "code",
      "source": [
        "df_R8 = pd.DataFrame({\"avalable_for\":df_A,\"facing\":df_F,\"rent\":df_R})"
      ],
      "metadata": {
        "id": "FwQ0l8_L_8gO"
      },
      "execution_count": null,
      "outputs": []
    },
    {
      "cell_type": "code",
      "source": [
        "mod = ols('rent~avalable_for + facing + avalable_for*facing',data=df_R8).fit()\n",
        "sm.stats.anova_lm(mod,typ=2)"
      ],
      "metadata": {
        "colab": {
          "base_uri": "https://localhost:8080/",
          "height": 175
        },
        "id": "t0DoxnFyA8p-",
        "outputId": "911e2fa6-1f8b-4ea1-d0ca-a77e191c1ec3"
      },
      "execution_count": null,
      "outputs": [
        {
          "output_type": "execute_result",
          "data": {
            "text/plain": [
              "                           sum_sq      df          F        PR(>F)\n",
              "avalable_for         1.028674e+09     1.0  25.104195  5.654917e-07\n",
              "facing               3.224592e+09     5.0  15.738854  2.205015e-15\n",
              "avalable_for:facing  1.770878e+08     5.0   0.864345  5.041779e-01\n",
              "Residual             1.720181e+11  4198.0        NaN           NaN"
            ],
            "text/html": [
              "\n",
              "  <div id=\"df-60c86364-df9b-48df-9237-2d5d49ed348b\">\n",
              "    <div class=\"colab-df-container\">\n",
              "      <div>\n",
              "<style scoped>\n",
              "    .dataframe tbody tr th:only-of-type {\n",
              "        vertical-align: middle;\n",
              "    }\n",
              "\n",
              "    .dataframe tbody tr th {\n",
              "        vertical-align: top;\n",
              "    }\n",
              "\n",
              "    .dataframe thead th {\n",
              "        text-align: right;\n",
              "    }\n",
              "</style>\n",
              "<table border=\"1\" class=\"dataframe\">\n",
              "  <thead>\n",
              "    <tr style=\"text-align: right;\">\n",
              "      <th></th>\n",
              "      <th>sum_sq</th>\n",
              "      <th>df</th>\n",
              "      <th>F</th>\n",
              "      <th>PR(&gt;F)</th>\n",
              "    </tr>\n",
              "  </thead>\n",
              "  <tbody>\n",
              "    <tr>\n",
              "      <th>avalable_for</th>\n",
              "      <td>1.028674e+09</td>\n",
              "      <td>1.0</td>\n",
              "      <td>25.104195</td>\n",
              "      <td>5.654917e-07</td>\n",
              "    </tr>\n",
              "    <tr>\n",
              "      <th>facing</th>\n",
              "      <td>3.224592e+09</td>\n",
              "      <td>5.0</td>\n",
              "      <td>15.738854</td>\n",
              "      <td>2.205015e-15</td>\n",
              "    </tr>\n",
              "    <tr>\n",
              "      <th>avalable_for:facing</th>\n",
              "      <td>1.770878e+08</td>\n",
              "      <td>5.0</td>\n",
              "      <td>0.864345</td>\n",
              "      <td>5.041779e-01</td>\n",
              "    </tr>\n",
              "    <tr>\n",
              "      <th>Residual</th>\n",
              "      <td>1.720181e+11</td>\n",
              "      <td>4198.0</td>\n",
              "      <td>NaN</td>\n",
              "      <td>NaN</td>\n",
              "    </tr>\n",
              "  </tbody>\n",
              "</table>\n",
              "</div>\n",
              "      <button class=\"colab-df-convert\" onclick=\"convertToInteractive('df-60c86364-df9b-48df-9237-2d5d49ed348b')\"\n",
              "              title=\"Convert this dataframe to an interactive table.\"\n",
              "              style=\"display:none;\">\n",
              "        \n",
              "  <svg xmlns=\"http://www.w3.org/2000/svg\" height=\"24px\"viewBox=\"0 0 24 24\"\n",
              "       width=\"24px\">\n",
              "    <path d=\"M0 0h24v24H0V0z\" fill=\"none\"/>\n",
              "    <path d=\"M18.56 5.44l.94 2.06.94-2.06 2.06-.94-2.06-.94-.94-2.06-.94 2.06-2.06.94zm-11 1L8.5 8.5l.94-2.06 2.06-.94-2.06-.94L8.5 2.5l-.94 2.06-2.06.94zm10 10l.94 2.06.94-2.06 2.06-.94-2.06-.94-.94-2.06-.94 2.06-2.06.94z\"/><path d=\"M17.41 7.96l-1.37-1.37c-.4-.4-.92-.59-1.43-.59-.52 0-1.04.2-1.43.59L10.3 9.45l-7.72 7.72c-.78.78-.78 2.05 0 2.83L4 21.41c.39.39.9.59 1.41.59.51 0 1.02-.2 1.41-.59l7.78-7.78 2.81-2.81c.8-.78.8-2.07 0-2.86zM5.41 20L4 18.59l7.72-7.72 1.47 1.35L5.41 20z\"/>\n",
              "  </svg>\n",
              "      </button>\n",
              "      \n",
              "  <style>\n",
              "    .colab-df-container {\n",
              "      display:flex;\n",
              "      flex-wrap:wrap;\n",
              "      gap: 12px;\n",
              "    }\n",
              "\n",
              "    .colab-df-convert {\n",
              "      background-color: #E8F0FE;\n",
              "      border: none;\n",
              "      border-radius: 50%;\n",
              "      cursor: pointer;\n",
              "      display: none;\n",
              "      fill: #1967D2;\n",
              "      height: 32px;\n",
              "      padding: 0 0 0 0;\n",
              "      width: 32px;\n",
              "    }\n",
              "\n",
              "    .colab-df-convert:hover {\n",
              "      background-color: #E2EBFA;\n",
              "      box-shadow: 0px 1px 2px rgba(60, 64, 67, 0.3), 0px 1px 3px 1px rgba(60, 64, 67, 0.15);\n",
              "      fill: #174EA6;\n",
              "    }\n",
              "\n",
              "    [theme=dark] .colab-df-convert {\n",
              "      background-color: #3B4455;\n",
              "      fill: #D2E3FC;\n",
              "    }\n",
              "\n",
              "    [theme=dark] .colab-df-convert:hover {\n",
              "      background-color: #434B5C;\n",
              "      box-shadow: 0px 1px 3px 1px rgba(0, 0, 0, 0.15);\n",
              "      filter: drop-shadow(0px 1px 2px rgba(0, 0, 0, 0.3));\n",
              "      fill: #FFFFFF;\n",
              "    }\n",
              "  </style>\n",
              "\n",
              "      <script>\n",
              "        const buttonEl =\n",
              "          document.querySelector('#df-60c86364-df9b-48df-9237-2d5d49ed348b button.colab-df-convert');\n",
              "        buttonEl.style.display =\n",
              "          google.colab.kernel.accessAllowed ? 'block' : 'none';\n",
              "\n",
              "        async function convertToInteractive(key) {\n",
              "          const element = document.querySelector('#df-60c86364-df9b-48df-9237-2d5d49ed348b');\n",
              "          const dataTable =\n",
              "            await google.colab.kernel.invokeFunction('convertToInteractive',\n",
              "                                                     [key], {});\n",
              "          if (!dataTable) return;\n",
              "\n",
              "          const docLinkHtml = 'Like what you see? Visit the ' +\n",
              "            '<a target=\"_blank\" href=https://colab.research.google.com/notebooks/data_table.ipynb>data table notebook</a>'\n",
              "            + ' to learn more about interactive tables.';\n",
              "          element.innerHTML = '';\n",
              "          dataTable['output_type'] = 'display_data';\n",
              "          await google.colab.output.renderOutput(dataTable, element);\n",
              "          const docLink = document.createElement('div');\n",
              "          docLink.innerHTML = docLinkHtml;\n",
              "          element.appendChild(docLink);\n",
              "        }\n",
              "      </script>\n",
              "    </div>\n",
              "  </div>\n",
              "  "
            ]
          },
          "metadata": {},
          "execution_count": 310
        }
      ]
    },
    {
      "cell_type": "markdown",
      "source": [
        "one way anova"
      ],
      "metadata": {
        "id": "E5kSB0nsqUTp"
      }
    },
    {
      "cell_type": "code",
      "source": [
        "df_R5 = pd.DataFrame({'avalable_for':df_A,'rent':df_R,'area':df_E})\n",
        "df_R5"
      ],
      "metadata": {
        "colab": {
          "base_uri": "https://localhost:8080/",
          "height": 424
        },
        "id": "uR98RjOFqO-W",
        "outputId": "a2c57d9a-6b75-45f0-fa69-52fddfcfabef"
      },
      "execution_count": null,
      "outputs": [
        {
          "output_type": "execute_result",
          "data": {
            "text/plain": [
              "     avalable_for     rent    area\n",
              "0             All  20000.0  1050.0\n",
              "1             All  14000.0   760.0\n",
              "2     Family Only  13000.0   628.0\n",
              "3     Family Only  28000.0  1530.0\n",
              "4             All  25999.0  1400.0\n",
              "...           ...      ...     ...\n",
              "4205          All  11000.0   800.0\n",
              "4206          All  20000.0   805.0\n",
              "4207  Family Only  15000.0   900.0\n",
              "4208  Family Only  15000.0   750.0\n",
              "4209          All  23000.0   500.0\n",
              "\n",
              "[4210 rows x 3 columns]"
            ],
            "text/html": [
              "\n",
              "  <div id=\"df-84e9c5cc-cbb4-426c-9cc6-39ca7c8c6050\">\n",
              "    <div class=\"colab-df-container\">\n",
              "      <div>\n",
              "<style scoped>\n",
              "    .dataframe tbody tr th:only-of-type {\n",
              "        vertical-align: middle;\n",
              "    }\n",
              "\n",
              "    .dataframe tbody tr th {\n",
              "        vertical-align: top;\n",
              "    }\n",
              "\n",
              "    .dataframe thead th {\n",
              "        text-align: right;\n",
              "    }\n",
              "</style>\n",
              "<table border=\"1\" class=\"dataframe\">\n",
              "  <thead>\n",
              "    <tr style=\"text-align: right;\">\n",
              "      <th></th>\n",
              "      <th>avalable_for</th>\n",
              "      <th>rent</th>\n",
              "      <th>area</th>\n",
              "    </tr>\n",
              "  </thead>\n",
              "  <tbody>\n",
              "    <tr>\n",
              "      <th>0</th>\n",
              "      <td>All</td>\n",
              "      <td>20000.0</td>\n",
              "      <td>1050.0</td>\n",
              "    </tr>\n",
              "    <tr>\n",
              "      <th>1</th>\n",
              "      <td>All</td>\n",
              "      <td>14000.0</td>\n",
              "      <td>760.0</td>\n",
              "    </tr>\n",
              "    <tr>\n",
              "      <th>2</th>\n",
              "      <td>Family Only</td>\n",
              "      <td>13000.0</td>\n",
              "      <td>628.0</td>\n",
              "    </tr>\n",
              "    <tr>\n",
              "      <th>3</th>\n",
              "      <td>Family Only</td>\n",
              "      <td>28000.0</td>\n",
              "      <td>1530.0</td>\n",
              "    </tr>\n",
              "    <tr>\n",
              "      <th>4</th>\n",
              "      <td>All</td>\n",
              "      <td>25999.0</td>\n",
              "      <td>1400.0</td>\n",
              "    </tr>\n",
              "    <tr>\n",
              "      <th>...</th>\n",
              "      <td>...</td>\n",
              "      <td>...</td>\n",
              "      <td>...</td>\n",
              "    </tr>\n",
              "    <tr>\n",
              "      <th>4205</th>\n",
              "      <td>All</td>\n",
              "      <td>11000.0</td>\n",
              "      <td>800.0</td>\n",
              "    </tr>\n",
              "    <tr>\n",
              "      <th>4206</th>\n",
              "      <td>All</td>\n",
              "      <td>20000.0</td>\n",
              "      <td>805.0</td>\n",
              "    </tr>\n",
              "    <tr>\n",
              "      <th>4207</th>\n",
              "      <td>Family Only</td>\n",
              "      <td>15000.0</td>\n",
              "      <td>900.0</td>\n",
              "    </tr>\n",
              "    <tr>\n",
              "      <th>4208</th>\n",
              "      <td>Family Only</td>\n",
              "      <td>15000.0</td>\n",
              "      <td>750.0</td>\n",
              "    </tr>\n",
              "    <tr>\n",
              "      <th>4209</th>\n",
              "      <td>All</td>\n",
              "      <td>23000.0</td>\n",
              "      <td>500.0</td>\n",
              "    </tr>\n",
              "  </tbody>\n",
              "</table>\n",
              "<p>4210 rows × 3 columns</p>\n",
              "</div>\n",
              "      <button class=\"colab-df-convert\" onclick=\"convertToInteractive('df-84e9c5cc-cbb4-426c-9cc6-39ca7c8c6050')\"\n",
              "              title=\"Convert this dataframe to an interactive table.\"\n",
              "              style=\"display:none;\">\n",
              "        \n",
              "  <svg xmlns=\"http://www.w3.org/2000/svg\" height=\"24px\"viewBox=\"0 0 24 24\"\n",
              "       width=\"24px\">\n",
              "    <path d=\"M0 0h24v24H0V0z\" fill=\"none\"/>\n",
              "    <path d=\"M18.56 5.44l.94 2.06.94-2.06 2.06-.94-2.06-.94-.94-2.06-.94 2.06-2.06.94zm-11 1L8.5 8.5l.94-2.06 2.06-.94-2.06-.94L8.5 2.5l-.94 2.06-2.06.94zm10 10l.94 2.06.94-2.06 2.06-.94-2.06-.94-.94-2.06-.94 2.06-2.06.94z\"/><path d=\"M17.41 7.96l-1.37-1.37c-.4-.4-.92-.59-1.43-.59-.52 0-1.04.2-1.43.59L10.3 9.45l-7.72 7.72c-.78.78-.78 2.05 0 2.83L4 21.41c.39.39.9.59 1.41.59.51 0 1.02-.2 1.41-.59l7.78-7.78 2.81-2.81c.8-.78.8-2.07 0-2.86zM5.41 20L4 18.59l7.72-7.72 1.47 1.35L5.41 20z\"/>\n",
              "  </svg>\n",
              "      </button>\n",
              "      \n",
              "  <style>\n",
              "    .colab-df-container {\n",
              "      display:flex;\n",
              "      flex-wrap:wrap;\n",
              "      gap: 12px;\n",
              "    }\n",
              "\n",
              "    .colab-df-convert {\n",
              "      background-color: #E8F0FE;\n",
              "      border: none;\n",
              "      border-radius: 50%;\n",
              "      cursor: pointer;\n",
              "      display: none;\n",
              "      fill: #1967D2;\n",
              "      height: 32px;\n",
              "      padding: 0 0 0 0;\n",
              "      width: 32px;\n",
              "    }\n",
              "\n",
              "    .colab-df-convert:hover {\n",
              "      background-color: #E2EBFA;\n",
              "      box-shadow: 0px 1px 2px rgba(60, 64, 67, 0.3), 0px 1px 3px 1px rgba(60, 64, 67, 0.15);\n",
              "      fill: #174EA6;\n",
              "    }\n",
              "\n",
              "    [theme=dark] .colab-df-convert {\n",
              "      background-color: #3B4455;\n",
              "      fill: #D2E3FC;\n",
              "    }\n",
              "\n",
              "    [theme=dark] .colab-df-convert:hover {\n",
              "      background-color: #434B5C;\n",
              "      box-shadow: 0px 1px 3px 1px rgba(0, 0, 0, 0.15);\n",
              "      filter: drop-shadow(0px 1px 2px rgba(0, 0, 0, 0.3));\n",
              "      fill: #FFFFFF;\n",
              "    }\n",
              "  </style>\n",
              "\n",
              "      <script>\n",
              "        const buttonEl =\n",
              "          document.querySelector('#df-84e9c5cc-cbb4-426c-9cc6-39ca7c8c6050 button.colab-df-convert');\n",
              "        buttonEl.style.display =\n",
              "          google.colab.kernel.accessAllowed ? 'block' : 'none';\n",
              "\n",
              "        async function convertToInteractive(key) {\n",
              "          const element = document.querySelector('#df-84e9c5cc-cbb4-426c-9cc6-39ca7c8c6050');\n",
              "          const dataTable =\n",
              "            await google.colab.kernel.invokeFunction('convertToInteractive',\n",
              "                                                     [key], {});\n",
              "          if (!dataTable) return;\n",
              "\n",
              "          const docLinkHtml = 'Like what you see? Visit the ' +\n",
              "            '<a target=\"_blank\" href=https://colab.research.google.com/notebooks/data_table.ipynb>data table notebook</a>'\n",
              "            + ' to learn more about interactive tables.';\n",
              "          element.innerHTML = '';\n",
              "          dataTable['output_type'] = 'display_data';\n",
              "          await google.colab.output.renderOutput(dataTable, element);\n",
              "          const docLink = document.createElement('div');\n",
              "          docLink.innerHTML = docLinkHtml;\n",
              "          element.appendChild(docLink);\n",
              "        }\n",
              "      </script>\n",
              "    </div>\n",
              "  </div>\n",
              "  "
            ]
          },
          "metadata": {},
          "execution_count": 347
        }
      ]
    },
    {
      "cell_type": "code",
      "source": [
        "df_R6 = pd.DataFrame({'facing':df_F,'rent':df_R,'area':df_E})\n",
        "df_R6"
      ],
      "metadata": {
        "colab": {
          "base_uri": "https://localhost:8080/",
          "height": 424
        },
        "id": "ISBcVsYbrk3l",
        "outputId": "e43ce0f0-edd6-4985-a2fc-09c713a44d71"
      },
      "execution_count": null,
      "outputs": [
        {
          "output_type": "execute_result",
          "data": {
            "text/plain": [
              "          facing     rent    area\n",
              "0           West  20000.0  1050.0\n",
              "1           East  14000.0   760.0\n",
              "2           East  13000.0   628.0\n",
              "3           East  28000.0  1530.0\n",
              "4     North-West  25999.0  1400.0\n",
              "...          ...      ...     ...\n",
              "4205        East  11000.0   800.0\n",
              "4206       North  20000.0   805.0\n",
              "4207       North  15000.0   900.0\n",
              "4208       South  15000.0   750.0\n",
              "4209        East  23000.0   500.0\n",
              "\n",
              "[4210 rows x 3 columns]"
            ],
            "text/html": [
              "\n",
              "  <div id=\"df-3e1f5e0d-d149-4f12-b158-52fb6e0b1f97\">\n",
              "    <div class=\"colab-df-container\">\n",
              "      <div>\n",
              "<style scoped>\n",
              "    .dataframe tbody tr th:only-of-type {\n",
              "        vertical-align: middle;\n",
              "    }\n",
              "\n",
              "    .dataframe tbody tr th {\n",
              "        vertical-align: top;\n",
              "    }\n",
              "\n",
              "    .dataframe thead th {\n",
              "        text-align: right;\n",
              "    }\n",
              "</style>\n",
              "<table border=\"1\" class=\"dataframe\">\n",
              "  <thead>\n",
              "    <tr style=\"text-align: right;\">\n",
              "      <th></th>\n",
              "      <th>facing</th>\n",
              "      <th>rent</th>\n",
              "      <th>area</th>\n",
              "    </tr>\n",
              "  </thead>\n",
              "  <tbody>\n",
              "    <tr>\n",
              "      <th>0</th>\n",
              "      <td>West</td>\n",
              "      <td>20000.0</td>\n",
              "      <td>1050.0</td>\n",
              "    </tr>\n",
              "    <tr>\n",
              "      <th>1</th>\n",
              "      <td>East</td>\n",
              "      <td>14000.0</td>\n",
              "      <td>760.0</td>\n",
              "    </tr>\n",
              "    <tr>\n",
              "      <th>2</th>\n",
              "      <td>East</td>\n",
              "      <td>13000.0</td>\n",
              "      <td>628.0</td>\n",
              "    </tr>\n",
              "    <tr>\n",
              "      <th>3</th>\n",
              "      <td>East</td>\n",
              "      <td>28000.0</td>\n",
              "      <td>1530.0</td>\n",
              "    </tr>\n",
              "    <tr>\n",
              "      <th>4</th>\n",
              "      <td>North-West</td>\n",
              "      <td>25999.0</td>\n",
              "      <td>1400.0</td>\n",
              "    </tr>\n",
              "    <tr>\n",
              "      <th>...</th>\n",
              "      <td>...</td>\n",
              "      <td>...</td>\n",
              "      <td>...</td>\n",
              "    </tr>\n",
              "    <tr>\n",
              "      <th>4205</th>\n",
              "      <td>East</td>\n",
              "      <td>11000.0</td>\n",
              "      <td>800.0</td>\n",
              "    </tr>\n",
              "    <tr>\n",
              "      <th>4206</th>\n",
              "      <td>North</td>\n",
              "      <td>20000.0</td>\n",
              "      <td>805.0</td>\n",
              "    </tr>\n",
              "    <tr>\n",
              "      <th>4207</th>\n",
              "      <td>North</td>\n",
              "      <td>15000.0</td>\n",
              "      <td>900.0</td>\n",
              "    </tr>\n",
              "    <tr>\n",
              "      <th>4208</th>\n",
              "      <td>South</td>\n",
              "      <td>15000.0</td>\n",
              "      <td>750.0</td>\n",
              "    </tr>\n",
              "    <tr>\n",
              "      <th>4209</th>\n",
              "      <td>East</td>\n",
              "      <td>23000.0</td>\n",
              "      <td>500.0</td>\n",
              "    </tr>\n",
              "  </tbody>\n",
              "</table>\n",
              "<p>4210 rows × 3 columns</p>\n",
              "</div>\n",
              "      <button class=\"colab-df-convert\" onclick=\"convertToInteractive('df-3e1f5e0d-d149-4f12-b158-52fb6e0b1f97')\"\n",
              "              title=\"Convert this dataframe to an interactive table.\"\n",
              "              style=\"display:none;\">\n",
              "        \n",
              "  <svg xmlns=\"http://www.w3.org/2000/svg\" height=\"24px\"viewBox=\"0 0 24 24\"\n",
              "       width=\"24px\">\n",
              "    <path d=\"M0 0h24v24H0V0z\" fill=\"none\"/>\n",
              "    <path d=\"M18.56 5.44l.94 2.06.94-2.06 2.06-.94-2.06-.94-.94-2.06-.94 2.06-2.06.94zm-11 1L8.5 8.5l.94-2.06 2.06-.94-2.06-.94L8.5 2.5l-.94 2.06-2.06.94zm10 10l.94 2.06.94-2.06 2.06-.94-2.06-.94-.94-2.06-.94 2.06-2.06.94z\"/><path d=\"M17.41 7.96l-1.37-1.37c-.4-.4-.92-.59-1.43-.59-.52 0-1.04.2-1.43.59L10.3 9.45l-7.72 7.72c-.78.78-.78 2.05 0 2.83L4 21.41c.39.39.9.59 1.41.59.51 0 1.02-.2 1.41-.59l7.78-7.78 2.81-2.81c.8-.78.8-2.07 0-2.86zM5.41 20L4 18.59l7.72-7.72 1.47 1.35L5.41 20z\"/>\n",
              "  </svg>\n",
              "      </button>\n",
              "      \n",
              "  <style>\n",
              "    .colab-df-container {\n",
              "      display:flex;\n",
              "      flex-wrap:wrap;\n",
              "      gap: 12px;\n",
              "    }\n",
              "\n",
              "    .colab-df-convert {\n",
              "      background-color: #E8F0FE;\n",
              "      border: none;\n",
              "      border-radius: 50%;\n",
              "      cursor: pointer;\n",
              "      display: none;\n",
              "      fill: #1967D2;\n",
              "      height: 32px;\n",
              "      padding: 0 0 0 0;\n",
              "      width: 32px;\n",
              "    }\n",
              "\n",
              "    .colab-df-convert:hover {\n",
              "      background-color: #E2EBFA;\n",
              "      box-shadow: 0px 1px 2px rgba(60, 64, 67, 0.3), 0px 1px 3px 1px rgba(60, 64, 67, 0.15);\n",
              "      fill: #174EA6;\n",
              "    }\n",
              "\n",
              "    [theme=dark] .colab-df-convert {\n",
              "      background-color: #3B4455;\n",
              "      fill: #D2E3FC;\n",
              "    }\n",
              "\n",
              "    [theme=dark] .colab-df-convert:hover {\n",
              "      background-color: #434B5C;\n",
              "      box-shadow: 0px 1px 3px 1px rgba(0, 0, 0, 0.15);\n",
              "      filter: drop-shadow(0px 1px 2px rgba(0, 0, 0, 0.3));\n",
              "      fill: #FFFFFF;\n",
              "    }\n",
              "  </style>\n",
              "\n",
              "      <script>\n",
              "        const buttonEl =\n",
              "          document.querySelector('#df-3e1f5e0d-d149-4f12-b158-52fb6e0b1f97 button.colab-df-convert');\n",
              "        buttonEl.style.display =\n",
              "          google.colab.kernel.accessAllowed ? 'block' : 'none';\n",
              "\n",
              "        async function convertToInteractive(key) {\n",
              "          const element = document.querySelector('#df-3e1f5e0d-d149-4f12-b158-52fb6e0b1f97');\n",
              "          const dataTable =\n",
              "            await google.colab.kernel.invokeFunction('convertToInteractive',\n",
              "                                                     [key], {});\n",
              "          if (!dataTable) return;\n",
              "\n",
              "          const docLinkHtml = 'Like what you see? Visit the ' +\n",
              "            '<a target=\"_blank\" href=https://colab.research.google.com/notebooks/data_table.ipynb>data table notebook</a>'\n",
              "            + ' to learn more about interactive tables.';\n",
              "          element.innerHTML = '';\n",
              "          dataTable['output_type'] = 'display_data';\n",
              "          await google.colab.output.renderOutput(dataTable, element);\n",
              "          const docLink = document.createElement('div');\n",
              "          docLink.innerHTML = docLinkHtml;\n",
              "          element.appendChild(docLink);\n",
              "        }\n",
              "      </script>\n",
              "    </div>\n",
              "  </div>\n",
              "  "
            ]
          },
          "metadata": {},
          "execution_count": 348
        }
      ]
    },
    {
      "cell_type": "code",
      "source": [
        "mod = ols('rent~facing ', data = df_R6).fit()\n",
        "sm.stats.anova_lm(mod, typ = 2,alpha=0.03)"
      ],
      "metadata": {
        "colab": {
          "base_uri": "https://localhost:8080/",
          "height": 112
        },
        "id": "_ur6SdqcrjVr",
        "outputId": "2fa4c8ea-2c90-40b4-db93-5cb95105c8a6"
      },
      "execution_count": null,
      "outputs": [
        {
          "output_type": "execute_result",
          "data": {
            "text/plain": [
              "                sum_sq      df          F        PR(>F)\n",
              "facing    3.231291e+09     5.0  15.684157  2.508030e-15\n",
              "Residual  1.732238e+11  4204.0        NaN           NaN"
            ],
            "text/html": [
              "\n",
              "  <div id=\"df-f884a251-4e49-4497-8e67-ca8355ef642a\">\n",
              "    <div class=\"colab-df-container\">\n",
              "      <div>\n",
              "<style scoped>\n",
              "    .dataframe tbody tr th:only-of-type {\n",
              "        vertical-align: middle;\n",
              "    }\n",
              "\n",
              "    .dataframe tbody tr th {\n",
              "        vertical-align: top;\n",
              "    }\n",
              "\n",
              "    .dataframe thead th {\n",
              "        text-align: right;\n",
              "    }\n",
              "</style>\n",
              "<table border=\"1\" class=\"dataframe\">\n",
              "  <thead>\n",
              "    <tr style=\"text-align: right;\">\n",
              "      <th></th>\n",
              "      <th>sum_sq</th>\n",
              "      <th>df</th>\n",
              "      <th>F</th>\n",
              "      <th>PR(&gt;F)</th>\n",
              "    </tr>\n",
              "  </thead>\n",
              "  <tbody>\n",
              "    <tr>\n",
              "      <th>facing</th>\n",
              "      <td>3.231291e+09</td>\n",
              "      <td>5.0</td>\n",
              "      <td>15.684157</td>\n",
              "      <td>2.508030e-15</td>\n",
              "    </tr>\n",
              "    <tr>\n",
              "      <th>Residual</th>\n",
              "      <td>1.732238e+11</td>\n",
              "      <td>4204.0</td>\n",
              "      <td>NaN</td>\n",
              "      <td>NaN</td>\n",
              "    </tr>\n",
              "  </tbody>\n",
              "</table>\n",
              "</div>\n",
              "      <button class=\"colab-df-convert\" onclick=\"convertToInteractive('df-f884a251-4e49-4497-8e67-ca8355ef642a')\"\n",
              "              title=\"Convert this dataframe to an interactive table.\"\n",
              "              style=\"display:none;\">\n",
              "        \n",
              "  <svg xmlns=\"http://www.w3.org/2000/svg\" height=\"24px\"viewBox=\"0 0 24 24\"\n",
              "       width=\"24px\">\n",
              "    <path d=\"M0 0h24v24H0V0z\" fill=\"none\"/>\n",
              "    <path d=\"M18.56 5.44l.94 2.06.94-2.06 2.06-.94-2.06-.94-.94-2.06-.94 2.06-2.06.94zm-11 1L8.5 8.5l.94-2.06 2.06-.94-2.06-.94L8.5 2.5l-.94 2.06-2.06.94zm10 10l.94 2.06.94-2.06 2.06-.94-2.06-.94-.94-2.06-.94 2.06-2.06.94z\"/><path d=\"M17.41 7.96l-1.37-1.37c-.4-.4-.92-.59-1.43-.59-.52 0-1.04.2-1.43.59L10.3 9.45l-7.72 7.72c-.78.78-.78 2.05 0 2.83L4 21.41c.39.39.9.59 1.41.59.51 0 1.02-.2 1.41-.59l7.78-7.78 2.81-2.81c.8-.78.8-2.07 0-2.86zM5.41 20L4 18.59l7.72-7.72 1.47 1.35L5.41 20z\"/>\n",
              "  </svg>\n",
              "      </button>\n",
              "      \n",
              "  <style>\n",
              "    .colab-df-container {\n",
              "      display:flex;\n",
              "      flex-wrap:wrap;\n",
              "      gap: 12px;\n",
              "    }\n",
              "\n",
              "    .colab-df-convert {\n",
              "      background-color: #E8F0FE;\n",
              "      border: none;\n",
              "      border-radius: 50%;\n",
              "      cursor: pointer;\n",
              "      display: none;\n",
              "      fill: #1967D2;\n",
              "      height: 32px;\n",
              "      padding: 0 0 0 0;\n",
              "      width: 32px;\n",
              "    }\n",
              "\n",
              "    .colab-df-convert:hover {\n",
              "      background-color: #E2EBFA;\n",
              "      box-shadow: 0px 1px 2px rgba(60, 64, 67, 0.3), 0px 1px 3px 1px rgba(60, 64, 67, 0.15);\n",
              "      fill: #174EA6;\n",
              "    }\n",
              "\n",
              "    [theme=dark] .colab-df-convert {\n",
              "      background-color: #3B4455;\n",
              "      fill: #D2E3FC;\n",
              "    }\n",
              "\n",
              "    [theme=dark] .colab-df-convert:hover {\n",
              "      background-color: #434B5C;\n",
              "      box-shadow: 0px 1px 3px 1px rgba(0, 0, 0, 0.15);\n",
              "      filter: drop-shadow(0px 1px 2px rgba(0, 0, 0, 0.3));\n",
              "      fill: #FFFFFF;\n",
              "    }\n",
              "  </style>\n",
              "\n",
              "      <script>\n",
              "        const buttonEl =\n",
              "          document.querySelector('#df-f884a251-4e49-4497-8e67-ca8355ef642a button.colab-df-convert');\n",
              "        buttonEl.style.display =\n",
              "          google.colab.kernel.accessAllowed ? 'block' : 'none';\n",
              "\n",
              "        async function convertToInteractive(key) {\n",
              "          const element = document.querySelector('#df-f884a251-4e49-4497-8e67-ca8355ef642a');\n",
              "          const dataTable =\n",
              "            await google.colab.kernel.invokeFunction('convertToInteractive',\n",
              "                                                     [key], {});\n",
              "          if (!dataTable) return;\n",
              "\n",
              "          const docLinkHtml = 'Like what you see? Visit the ' +\n",
              "            '<a target=\"_blank\" href=https://colab.research.google.com/notebooks/data_table.ipynb>data table notebook</a>'\n",
              "            + ' to learn more about interactive tables.';\n",
              "          element.innerHTML = '';\n",
              "          dataTable['output_type'] = 'display_data';\n",
              "          await google.colab.output.renderOutput(dataTable, element);\n",
              "          const docLink = document.createElement('div');\n",
              "          docLink.innerHTML = docLinkHtml;\n",
              "          element.appendChild(docLink);\n",
              "        }\n",
              "      </script>\n",
              "    </div>\n",
              "  </div>\n",
              "  "
            ]
          },
          "metadata": {},
          "execution_count": 349
        }
      ]
    },
    {
      "cell_type": "code",
      "source": [
        "mod = ols('area~facing', data = df_R6).fit()\n",
        "sm.stats.anova_lm(mod, typ = 2,alpha=0.03)"
      ],
      "metadata": {
        "colab": {
          "base_uri": "https://localhost:8080/",
          "height": 112
        },
        "id": "FcM4N5wery3d",
        "outputId": "949bf65c-4064-416e-8cc6-0324e0023cd3"
      },
      "execution_count": null,
      "outputs": [
        {
          "output_type": "execute_result",
          "data": {
            "text/plain": [
              "                sum_sq      df          F        PR(>F)\n",
              "facing    5.365940e+06     5.0  13.870699  1.810255e-13\n",
              "Residual  3.252671e+08  4204.0        NaN           NaN"
            ],
            "text/html": [
              "\n",
              "  <div id=\"df-e99bf586-39ed-4bfd-b5a9-eafc0072e189\">\n",
              "    <div class=\"colab-df-container\">\n",
              "      <div>\n",
              "<style scoped>\n",
              "    .dataframe tbody tr th:only-of-type {\n",
              "        vertical-align: middle;\n",
              "    }\n",
              "\n",
              "    .dataframe tbody tr th {\n",
              "        vertical-align: top;\n",
              "    }\n",
              "\n",
              "    .dataframe thead th {\n",
              "        text-align: right;\n",
              "    }\n",
              "</style>\n",
              "<table border=\"1\" class=\"dataframe\">\n",
              "  <thead>\n",
              "    <tr style=\"text-align: right;\">\n",
              "      <th></th>\n",
              "      <th>sum_sq</th>\n",
              "      <th>df</th>\n",
              "      <th>F</th>\n",
              "      <th>PR(&gt;F)</th>\n",
              "    </tr>\n",
              "  </thead>\n",
              "  <tbody>\n",
              "    <tr>\n",
              "      <th>facing</th>\n",
              "      <td>5.365940e+06</td>\n",
              "      <td>5.0</td>\n",
              "      <td>13.870699</td>\n",
              "      <td>1.810255e-13</td>\n",
              "    </tr>\n",
              "    <tr>\n",
              "      <th>Residual</th>\n",
              "      <td>3.252671e+08</td>\n",
              "      <td>4204.0</td>\n",
              "      <td>NaN</td>\n",
              "      <td>NaN</td>\n",
              "    </tr>\n",
              "  </tbody>\n",
              "</table>\n",
              "</div>\n",
              "      <button class=\"colab-df-convert\" onclick=\"convertToInteractive('df-e99bf586-39ed-4bfd-b5a9-eafc0072e189')\"\n",
              "              title=\"Convert this dataframe to an interactive table.\"\n",
              "              style=\"display:none;\">\n",
              "        \n",
              "  <svg xmlns=\"http://www.w3.org/2000/svg\" height=\"24px\"viewBox=\"0 0 24 24\"\n",
              "       width=\"24px\">\n",
              "    <path d=\"M0 0h24v24H0V0z\" fill=\"none\"/>\n",
              "    <path d=\"M18.56 5.44l.94 2.06.94-2.06 2.06-.94-2.06-.94-.94-2.06-.94 2.06-2.06.94zm-11 1L8.5 8.5l.94-2.06 2.06-.94-2.06-.94L8.5 2.5l-.94 2.06-2.06.94zm10 10l.94 2.06.94-2.06 2.06-.94-2.06-.94-.94-2.06-.94 2.06-2.06.94z\"/><path d=\"M17.41 7.96l-1.37-1.37c-.4-.4-.92-.59-1.43-.59-.52 0-1.04.2-1.43.59L10.3 9.45l-7.72 7.72c-.78.78-.78 2.05 0 2.83L4 21.41c.39.39.9.59 1.41.59.51 0 1.02-.2 1.41-.59l7.78-7.78 2.81-2.81c.8-.78.8-2.07 0-2.86zM5.41 20L4 18.59l7.72-7.72 1.47 1.35L5.41 20z\"/>\n",
              "  </svg>\n",
              "      </button>\n",
              "      \n",
              "  <style>\n",
              "    .colab-df-container {\n",
              "      display:flex;\n",
              "      flex-wrap:wrap;\n",
              "      gap: 12px;\n",
              "    }\n",
              "\n",
              "    .colab-df-convert {\n",
              "      background-color: #E8F0FE;\n",
              "      border: none;\n",
              "      border-radius: 50%;\n",
              "      cursor: pointer;\n",
              "      display: none;\n",
              "      fill: #1967D2;\n",
              "      height: 32px;\n",
              "      padding: 0 0 0 0;\n",
              "      width: 32px;\n",
              "    }\n",
              "\n",
              "    .colab-df-convert:hover {\n",
              "      background-color: #E2EBFA;\n",
              "      box-shadow: 0px 1px 2px rgba(60, 64, 67, 0.3), 0px 1px 3px 1px rgba(60, 64, 67, 0.15);\n",
              "      fill: #174EA6;\n",
              "    }\n",
              "\n",
              "    [theme=dark] .colab-df-convert {\n",
              "      background-color: #3B4455;\n",
              "      fill: #D2E3FC;\n",
              "    }\n",
              "\n",
              "    [theme=dark] .colab-df-convert:hover {\n",
              "      background-color: #434B5C;\n",
              "      box-shadow: 0px 1px 3px 1px rgba(0, 0, 0, 0.15);\n",
              "      filter: drop-shadow(0px 1px 2px rgba(0, 0, 0, 0.3));\n",
              "      fill: #FFFFFF;\n",
              "    }\n",
              "  </style>\n",
              "\n",
              "      <script>\n",
              "        const buttonEl =\n",
              "          document.querySelector('#df-e99bf586-39ed-4bfd-b5a9-eafc0072e189 button.colab-df-convert');\n",
              "        buttonEl.style.display =\n",
              "          google.colab.kernel.accessAllowed ? 'block' : 'none';\n",
              "\n",
              "        async function convertToInteractive(key) {\n",
              "          const element = document.querySelector('#df-e99bf586-39ed-4bfd-b5a9-eafc0072e189');\n",
              "          const dataTable =\n",
              "            await google.colab.kernel.invokeFunction('convertToInteractive',\n",
              "                                                     [key], {});\n",
              "          if (!dataTable) return;\n",
              "\n",
              "          const docLinkHtml = 'Like what you see? Visit the ' +\n",
              "            '<a target=\"_blank\" href=https://colab.research.google.com/notebooks/data_table.ipynb>data table notebook</a>'\n",
              "            + ' to learn more about interactive tables.';\n",
              "          element.innerHTML = '';\n",
              "          dataTable['output_type'] = 'display_data';\n",
              "          await google.colab.output.renderOutput(dataTable, element);\n",
              "          const docLink = document.createElement('div');\n",
              "          docLink.innerHTML = docLinkHtml;\n",
              "          element.appendChild(docLink);\n",
              "        }\n",
              "      </script>\n",
              "    </div>\n",
              "  </div>\n",
              "  "
            ]
          },
          "metadata": {},
          "execution_count": 314
        }
      ]
    },
    {
      "cell_type": "code",
      "source": [
        "from statsmodels.stats.multicomp import pairwise_tukeyhsd\n",
        "mc_fact_rent = pairwise_tukeyhsd(df_R6['rent'],df_R6['facing'],alpha=0.03)\n",
        "print(mc_fact_rent)"
      ],
      "metadata": {
        "colab": {
          "base_uri": "https://localhost:8080/"
        },
        "id": "I9SrsM3utx4q",
        "outputId": "a1e81a93-179a-4d6b-e814-509077e2f0fe"
      },
      "execution_count": null,
      "outputs": [
        {
          "output_type": "stream",
          "name": "stdout",
          "text": [
            "        Multiple Comparison of Means - Tukey HSD, FWER=0.03         \n",
            "====================================================================\n",
            "  group1     group2    meandiff  p-adj    lower      upper    reject\n",
            "--------------------------------------------------------------------\n",
            "      East      North -2096.8196  0.001 -3118.0287 -1075.6105   True\n",
            "      East North-East  -931.2886 0.1408 -2083.6091    221.032  False\n",
            "      East North-West -2063.2453 0.0026 -3732.7303  -393.7604   True\n",
            "      East      South -2306.4201  0.001 -3710.5063  -902.3338   True\n",
            "      East       West -1477.8425  0.001 -2370.0154  -585.6696   True\n",
            "     North North-East  1165.5311 0.1395  -274.2782  2605.3403  False\n",
            "     North North-West    33.5743    0.9 -1845.8905  1913.0391  False\n",
            "     North      South  -209.6004    0.9 -1857.8317  1438.6308  False\n",
            "     North       West   618.9771 0.6376  -622.4658    1860.42  False\n",
            "North-East North-West -1131.9568 0.4963  -3085.764   821.8505  False\n",
            "North-East      South -1375.1315 0.1557 -3107.6559    357.393  False\n",
            "North-East       West  -546.5539 0.8021  -1897.907   804.7991  False\n",
            "North-West      South  -243.1747    0.9 -2355.2775  1868.9281  False\n",
            "North-West       West   585.4028    0.9 -1227.1899  2397.9956  False\n",
            "     South       West   828.5775 0.5876  -742.9729   2400.128  False\n",
            "--------------------------------------------------------------------\n"
          ]
        }
      ]
    },
    {
      "cell_type": "code",
      "source": [
        "mc_fact_rent = pairwise_tukeyhsd(df_R6['area'],df_R6['facing'],alpha=0.03)\n",
        "print(mc_fact_rent)"
      ],
      "metadata": {
        "colab": {
          "base_uri": "https://localhost:8080/"
        },
        "id": "POtxmnmyM6EM",
        "outputId": "5e3b813f-1a6c-481d-db50-232a6f664378"
      },
      "execution_count": null,
      "outputs": [
        {
          "output_type": "stream",
          "name": "stdout",
          "text": [
            "      Multiple Comparison of Means - Tukey HSD, FWER=0.03      \n",
            "===============================================================\n",
            "  group1     group2   meandiff p-adj    lower    upper   reject\n",
            "---------------------------------------------------------------\n",
            "      East      North -89.7513  0.001 -134.0031 -45.4995   True\n",
            "      East North-East -13.4883    0.9  -63.4215   36.445  False\n",
            "      East North-West -86.7801 0.0039 -159.1235 -14.4368   True\n",
            "      East      South -76.3904  0.002 -137.2333 -15.5475   True\n",
            "      East       West -63.8223  0.001 -102.4826  -25.162   True\n",
            "     North North-East   76.263  0.003   13.8721 138.6539   True\n",
            "     North North-West   2.9712    0.9  -78.4712  84.4136  False\n",
            "     North      South  13.3609    0.9  -58.0615  84.7833  False\n",
            "     North       West   25.929 0.6666  -27.8661  79.7241  False\n",
            "North-East North-West -73.2919 0.0926 -157.9557   11.372  False\n",
            "North-East      South -62.9021 0.1144 -137.9772  12.1729  False\n",
            "North-East       West  -50.334 0.0971 -108.8919   8.2238  False\n",
            "North-West      South  10.3897    0.9  -81.1335 101.9129  False\n",
            "North-West       West  22.9578    0.9  -55.5868 101.5025  False\n",
            "     South       West  12.5681    0.9  -55.5315  80.6677  False\n",
            "---------------------------------------------------------------\n"
          ]
        }
      ]
    },
    {
      "cell_type": "code",
      "source": [
        "!pip install statannotations"
      ],
      "metadata": {
        "id": "qApDexrMMwJD",
        "colab": {
          "base_uri": "https://localhost:8080/"
        },
        "outputId": "eb1c8856-a2b2-416f-a284-c6e4776f5019"
      },
      "execution_count": null,
      "outputs": [
        {
          "output_type": "stream",
          "name": "stdout",
          "text": [
            "Looking in indexes: https://pypi.org/simple, https://us-python.pkg.dev/colab-wheels/public/simple/\n",
            "Requirement already satisfied: statannotations in /usr/local/lib/python3.7/dist-packages (0.4.4)\n",
            "Requirement already satisfied: numpy>=1.12.1 in /usr/local/lib/python3.7/dist-packages (from statannotations) (1.21.6)\n",
            "Requirement already satisfied: pandas>=0.23.0 in /usr/local/lib/python3.7/dist-packages (from statannotations) (1.3.5)\n",
            "Requirement already satisfied: matplotlib>=2.2.2 in /usr/local/lib/python3.7/dist-packages (from statannotations) (3.2.2)\n",
            "Requirement already satisfied: scipy>=1.1.0 in /usr/local/lib/python3.7/dist-packages (from statannotations) (1.7.3)\n",
            "Requirement already satisfied: seaborn>=0.9.0 in /usr/local/lib/python3.7/dist-packages (from statannotations) (0.11.2)\n",
            "Requirement already satisfied: python-dateutil>=2.1 in /usr/local/lib/python3.7/dist-packages (from matplotlib>=2.2.2->statannotations) (2.8.2)\n",
            "Requirement already satisfied: cycler>=0.10 in /usr/local/lib/python3.7/dist-packages (from matplotlib>=2.2.2->statannotations) (0.11.0)\n",
            "Requirement already satisfied: kiwisolver>=1.0.1 in /usr/local/lib/python3.7/dist-packages (from matplotlib>=2.2.2->statannotations) (1.4.4)\n",
            "Requirement already satisfied: pyparsing!=2.0.4,!=2.1.2,!=2.1.6,>=2.0.1 in /usr/local/lib/python3.7/dist-packages (from matplotlib>=2.2.2->statannotations) (3.0.9)\n",
            "Requirement already satisfied: typing-extensions in /usr/local/lib/python3.7/dist-packages (from kiwisolver>=1.0.1->matplotlib>=2.2.2->statannotations) (4.1.1)\n",
            "Requirement already satisfied: pytz>=2017.3 in /usr/local/lib/python3.7/dist-packages (from pandas>=0.23.0->statannotations) (2022.4)\n",
            "Requirement already satisfied: six>=1.5 in /usr/local/lib/python3.7/dist-packages (from python-dateutil>=2.1->matplotlib>=2.2.2->statannotations) (1.15.0)\n"
          ]
        }
      ]
    },
    {
      "cell_type": "code",
      "source": [
        "!pip install scikit_posthocs"
      ],
      "metadata": {
        "colab": {
          "base_uri": "https://localhost:8080/"
        },
        "id": "SVP-cFGPM8hm",
        "outputId": "e763d748-dfb9-4076-d400-71c5990eb480"
      },
      "execution_count": null,
      "outputs": [
        {
          "output_type": "stream",
          "name": "stdout",
          "text": [
            "Looking in indexes: https://pypi.org/simple, https://us-python.pkg.dev/colab-wheels/public/simple/\n",
            "Requirement already satisfied: scikit_posthocs in /usr/local/lib/python3.7/dist-packages (0.7.0)\n",
            "Requirement already satisfied: scipy in /usr/local/lib/python3.7/dist-packages (from scikit_posthocs) (1.7.3)\n",
            "Requirement already satisfied: pandas>=0.20.0 in /usr/local/lib/python3.7/dist-packages (from scikit_posthocs) (1.3.5)\n",
            "Requirement already satisfied: matplotlib in /usr/local/lib/python3.7/dist-packages (from scikit_posthocs) (3.2.2)\n",
            "Requirement already satisfied: statsmodels in /usr/local/lib/python3.7/dist-packages (from scikit_posthocs) (0.12.2)\n",
            "Requirement already satisfied: numpy in /usr/local/lib/python3.7/dist-packages (from scikit_posthocs) (1.21.6)\n",
            "Requirement already satisfied: seaborn in /usr/local/lib/python3.7/dist-packages (from scikit_posthocs) (0.11.2)\n",
            "Requirement already satisfied: pytz>=2017.3 in /usr/local/lib/python3.7/dist-packages (from pandas>=0.20.0->scikit_posthocs) (2022.4)\n",
            "Requirement already satisfied: python-dateutil>=2.7.3 in /usr/local/lib/python3.7/dist-packages (from pandas>=0.20.0->scikit_posthocs) (2.8.2)\n",
            "Requirement already satisfied: six>=1.5 in /usr/local/lib/python3.7/dist-packages (from python-dateutil>=2.7.3->pandas>=0.20.0->scikit_posthocs) (1.15.0)\n",
            "Requirement already satisfied: pyparsing!=2.0.4,!=2.1.2,!=2.1.6,>=2.0.1 in /usr/local/lib/python3.7/dist-packages (from matplotlib->scikit_posthocs) (3.0.9)\n",
            "Requirement already satisfied: cycler>=0.10 in /usr/local/lib/python3.7/dist-packages (from matplotlib->scikit_posthocs) (0.11.0)\n",
            "Requirement already satisfied: kiwisolver>=1.0.1 in /usr/local/lib/python3.7/dist-packages (from matplotlib->scikit_posthocs) (1.4.4)\n",
            "Requirement already satisfied: typing-extensions in /usr/local/lib/python3.7/dist-packages (from kiwisolver>=1.0.1->matplotlib->scikit_posthocs) (4.1.1)\n",
            "Requirement already satisfied: patsy>=0.5 in /usr/local/lib/python3.7/dist-packages (from statsmodels->scikit_posthocs) (0.5.2)\n"
          ]
        }
      ]
    },
    {
      "cell_type": "code",
      "source": [
        "from statannotations.Annotator import Annotator\n",
        "from matplotlib import pyplot as plt\n",
        "from scikit_posthocs import posthoc_tukey"
      ],
      "metadata": {
        "id": "OqZkVgoikGv-"
      },
      "execution_count": null,
      "outputs": []
    },
    {
      "cell_type": "code",
      "source": [
        "tukey_df = posthoc_tukey(df_R6,val_col=\"rent\", group_col=\"facing\")\n",
        "tukey_df\n",
        "\n",
        "remove = np.tril(np.ones(tukey_df.shape), k=0).astype(\"bool\")\n",
        "tukey_df[remove] = np.nan\n",
        "\n",
        "molten_df = tukey_df.melt(ignore_index=False).reset_index().dropna()\n",
        "molten_df\n",
        "\n",
        "plt.figure(figsize=(10,10))\n",
        "ax = sns.boxplot(data=df_R6, x=\"facing\", y=\"rent\")\n",
        "\n",
        "pairs = [(i[1][\"index\"], i[1][\"variable\"]) for i in molten_df.iterrows()]\n",
        "p_values = [i[1][\"value\"] for i in molten_df.iterrows()]\n",
        "\n",
        "annotator = Annotator(\n",
        "    ax, pairs, data=df_R6, x=\"facing\", y=\"rent\")\n",
        "annotator.configure(text_format=\"simple\", loc=\"inside\")\n",
        "annotator.set_pvalues_and_annotate(p_values)\n",
        "plt.tight_layout()"
      ],
      "metadata": {
        "colab": {
          "base_uri": "https://localhost:8080/",
          "height": 989
        },
        "id": "j2IYGaOxMk-7",
        "outputId": "6558a6ab-1e7f-413f-a6aa-d7d3d84e0d26"
      },
      "execution_count": null,
      "outputs": [
        {
          "output_type": "stream",
          "name": "stdout",
          "text": [
            "West vs. East: Custom statistical test, P_val:1.000e-03\n",
            "East vs. North-West: Custom statistical test, P_val:2.568e-03\n",
            "North-West vs. North-East: Custom statistical test, P_val:4.963e-01\n",
            "North-East vs. North: Custom statistical test, P_val:1.395e-01\n",
            "North vs. South: Custom statistical test, P_val:9.000e-01\n",
            "West vs. North-West: Custom statistical test, P_val:9.000e-01\n",
            "East vs. North-East: Custom statistical test, P_val:1.408e-01\n",
            "North-West vs. North: Custom statistical test, P_val:9.000e-01\n",
            "North-East vs. South: Custom statistical test, P_val:1.557e-01\n",
            "West vs. North-East: Custom statistical test, P_val:8.021e-01\n",
            "East vs. North: Custom statistical test, P_val:1.000e-03\n",
            "North-West vs. South: Custom statistical test, P_val:9.000e-01\n",
            "West vs. North: Custom statistical test, P_val:6.376e-01\n",
            "East vs. South: Custom statistical test, P_val:1.000e-03\n",
            "West vs. South: Custom statistical test, P_val:5.876e-01\n"
          ]
        },
        {
          "output_type": "display_data",
          "data": {
            "text/plain": [
              "<Figure size 720x720 with 1 Axes>"
            ],
            "image/png": "[encoded data removed]"
          },
          "metadata": {
            "needs_background": "light"
          }
        }
      ]
    },
    {
      "cell_type": "code",
      "source": [
        "tukey_df = posthoc_tukey(df_R6,val_col=\"area\", group_col=\"facing\")\n",
        "tukey_df\n",
        "\n",
        "remove = np.tril(np.ones(tukey_df.shape), k=0).astype(\"bool\")\n",
        "tukey_df[remove] = np.nan\n",
        "\n",
        "molten_df = tukey_df.melt(ignore_index=False).reset_index().dropna()\n",
        "molten_df\n",
        "\n",
        "plt.figure(figsize=(10,10))\n",
        "ax = sns.boxplot(data=df_R6, x=\"facing\", y=\"area\")\n",
        "\n",
        "pairs = [(i[1][\"index\"], i[1][\"variable\"]) for i in molten_df.iterrows()]\n",
        "p_values = [i[1][\"value\"] for i in molten_df.iterrows()]\n",
        "\n",
        "annotator = Annotator(\n",
        "    ax, pairs, data=df_R6, x=\"facing\", y=\"area\")\n",
        "annotator.configure(text_format=\"simple\", loc=\"inside\")\n",
        "annotator.set_pvalues_and_annotate(p_values)\n",
        "plt.tight_layout()"
      ],
      "metadata": {
        "id": "TEBJ-FlGNcPY",
        "outputId": "29d8f004-a8a1-4d20-9cdf-dce5c3127f98",
        "colab": {
          "base_uri": "https://localhost:8080/"
        }
      },
      "execution_count": null,
      "outputs": [
        {
          "output_type": "stream",
          "name": "stdout",
          "text": [
            "West vs. East: Custom statistical test, P_val:1.000e-03\n",
            "East vs. North-West: Custom statistical test, P_val:3.894e-03\n",
            "North-West vs. North-East: Custom statistical test, P_val:9.258e-02\n",
            "North-East vs. North: Custom statistical test, P_val:3.004e-03\n",
            "North vs. South: Custom statistical test, P_val:9.000e-01\n",
            "West vs. North-West: Custom statistical test, P_val:9.000e-01\n",
            "East vs. North-East: Custom statistical test, P_val:9.000e-01\n",
            "North-West vs. North: Custom statistical test, P_val:9.000e-01\n",
            "North-East vs. South: Custom statistical test, P_val:1.144e-01\n",
            "West vs. North-East: Custom statistical test, P_val:9.706e-02\n",
            "East vs. North: Custom statistical test, P_val:1.000e-03\n",
            "North-West vs. South: Custom statistical test, P_val:9.000e-01\n",
            "West vs. North: Custom statistical test, P_val:6.666e-01\n",
            "East vs. South: Custom statistical test, P_val:2.040e-03\n",
            "West vs. South: Custom statistical test, P_val:9.000e-01\n"
          ]
        },
        {
          "output_type": "display_data",
          "data": {
            "text/plain": [
              "<Figure size 720x720 with 1 Axes>"
            ],
            "image/png": "[encoded data removed]"
          },
          "metadata": {
            "needs_background": "light"
          }
        }
      ]
    },
    {
      "cell_type": "markdown",
      "source": [
        "Two sample T"
      ],
      "metadata": {
        "id": "GuNmxuXkkaEm"
      }
    },
    {
      "cell_type": "code",
      "source": [
        "import numpy as np"
      ],
      "metadata": {
        "id": "2PSchnoakdCE"
      },
      "execution_count": null,
      "outputs": []
    },
    {
      "cell_type": "code",
      "source": [
        "df_ALL = df_R5[df_R5['avalable_for']=='All']\n",
        "df_B = df_R5[df_R5['avalable_for']=='Family Only']"
      ],
      "metadata": {
        "id": "-9v3m3WDloud"
      },
      "execution_count": null,
      "outputs": []
    },
    {
      "cell_type": "code",
      "source": [
        "df_ALL_R = df_ALL.iloc[:,1:2]\n",
        "df_B_R = df_B.iloc[:,1:2]\n",
        "df_ALL_R = df_ALL_R.to_numpy()\n",
        "df_B_R = df_B_R.to_numpy()"
      ],
      "metadata": {
        "id": "jZK7f_J-mH1I"
      },
      "execution_count": null,
      "outputs": []
    },
    {
      "cell_type": "code",
      "source": [
        "mean1 = np.mean(df_ALL_R)\n",
        "mean2 = np.mean(df_B_R)\n",
        "std1 = np.std(df_ALL_R)\n",
        "std2 = np.std(df_B_R)\n",
        "nobs1 = len(df_ALL_R)\n",
        "nobs2 = len(df_B_R)\n",
        "modified_std1 = np.sqrt(np.float32(nobs1)/np.float32(nobs1-1)) * std1\n",
        "modified_std2 = np.sqrt(np.float32(nobs2)/np.float32(nobs2-1)) * std2\n",
        "statistic, pvalue = stats.ttest_ind_from_stats( mean1=mean1, std1=modified_std1, nobs1=nobs1,\n",
        "               mean2=mean2, std2=modified_std2, nobs2=nobs2 )\n",
        "print('statistic:',statistic,'\\n','pvalue:',pvalue)"
      ],
      "metadata": {
        "colab": {
          "base_uri": "https://localhost:8080/"
        },
        "id": "VZtRQT6Qkq_K",
        "outputId": "170cf840-5349-4acb-e852-65f8c73ad4bd"
      },
      "execution_count": null,
      "outputs": [
        {
          "output_type": "stream",
          "name": "stdout",
          "text": [
            "statistic: -4.98364682582449 \n",
            " pvalue: 6.490459281723903e-07\n"
          ]
        }
      ]
    },
    {
      "cell_type": "code",
      "source": [
        "df_ALL_A = df_ALL.iloc[:,2:3]\n",
        "df_B_A = df_B.iloc[:,2:3]\n",
        "df_ALL_A = df_ALL_A.to_numpy()\n",
        "df_B_A = df_B_A.to_numpy()"
      ],
      "metadata": {
        "id": "NIkv737_m3Ny"
      },
      "execution_count": null,
      "outputs": []
    },
    {
      "cell_type": "code",
      "source": [
        "mean1 = np.mean(df_ALL_A)\n",
        "mean2 = np.mean(df_B_A)\n",
        "std1 = np.std(df_ALL_A)\n",
        "std2 = np.std(df_B_A)\n",
        "nobs1 = len(df_ALL_A)\n",
        "nobs2 = len(df_B_A)\n",
        "modified_std1 = np.sqrt(np.float32(nobs1)/np.float32(nobs1-1)) * std1\n",
        "modified_std2 = np.sqrt(np.float32(nobs2)/np.float32(nobs2-1)) * std2\n",
        "statistic, pvalue = stats.ttest_ind_from_stats( mean1=mean1, std1=modified_std1, nobs1=nobs1,\n",
        "               mean2=mean2, std2=modified_std2, nobs2=nobs2 )\n",
        "print('statistic:',statistic,'\\n','pvalue:',pvalue)"
      ],
      "metadata": {
        "colab": {
          "base_uri": "https://localhost:8080/"
        },
        "id": "PZspLE54nCnz",
        "outputId": "99a3ba32-bfa0-460e-8011-4096868020c8"
      },
      "execution_count": null,
      "outputs": [
        {
          "output_type": "stream",
          "name": "stdout",
          "text": [
            "statistic: -6.184257285767972 \n",
            " pvalue: 6.832969045034287e-10\n"
          ]
        }
      ]
    }
  ]
}